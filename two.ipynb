{
 "cells": [
  {
   "cell_type": "code",
   "execution_count": 1,
   "metadata": {
    "collapsed": true
   },
   "outputs": [],
   "source": [
    "%matplotlib inline"
   ]
  },
  {
   "cell_type": "code",
   "execution_count": 2,
   "metadata": {
    "collapsed": true
   },
   "outputs": [],
   "source": [
    "import fipy as fp"
   ]
  },
  {
   "cell_type": "code",
   "execution_count": 3,
   "metadata": {
    "collapsed": true
   },
   "outputs": [],
   "source": [
    "from fipy import numerix as nmx"
   ]
  },
  {
   "cell_type": "markdown",
   "metadata": {},
   "source": [
    "## initialize"
   ]
  },
  {
   "cell_type": "code",
   "execution_count": 4,
   "metadata": {
    "collapsed": true
   },
   "outputs": [],
   "source": [
    "N = 200\n",
    "mesh = fp.PeriodicGrid2D(nx=N, ny=N)"
   ]
  },
  {
   "cell_type": "markdown",
   "metadata": {},
   "source": [
    "## restart"
   ]
  },
  {
   "cell_type": "code",
   "execution_count": null,
   "metadata": {
    "collapsed": true
   },
   "outputs": [],
   "source": [
    "mesh = fp.dump.read(\"mesh.dmp\")"
   ]
  },
  {
   "cell_type": "code",
   "execution_count": 6,
   "metadata": {
    "collapsed": true
   },
   "outputs": [],
   "source": [
    "Calpha = fp.Variable(0.05, name=r\"$C_\\alpha$\")\n",
    "Cbeta = fp.Variable(0.95, name=r\"$C_\\beta$\")\n",
    "Cm = (Calpha + Cbeta) / 2.\n",
    "Cm.name = \"$C_m$\"\n",
    "A = fp.Variable(2.0, name=\"A\")\n",
    "B = A / (Calpha - Cm)**2\n",
    "B.name = \"B\"\n",
    "gamma = 2. / (Cbeta - Calpha)**2\n",
    "gamma.name = r\"$\\gamma$\"\n",
    "beta = fp.Variable(1.0, name=r\"$\\beta$\")\n",
    "Dalpha = gamma / beta**2\n",
    "Dalpha.name = r\"$D_\\alpha$\"\n",
    "Dbeta = gamma / beta**2\n",
    "Dbeta.name = r\"$D_\\beta$\"\n",
    "epsilonij = fp.Variable(3.0, name=r\"$\\epsilon_{ij}$\")\n",
    "kappai = fp.Variable(2.0, name=r\"$\\kappa_i$\")\n",
    "kappaC = fp.Variable(2.0, name=r\"$\\kappa_C$\")\n",
    "D = fp.Variable(1.0, name=\"D\")\n",
    "Li = fp.Variable(1.0, name=\"$L_i$\")"
   ]
  },
  {
   "cell_type": "code",
   "execution_count": 7,
   "metadata": {
    "collapsed": true
   },
   "outputs": [],
   "source": [
    "C = fp.CellVariable(mesh=mesh, name=\"C\", hasOld=True)"
   ]
  },
  {
   "cell_type": "code",
   "execution_count": 8,
   "metadata": {
    "collapsed": true
   },
   "outputs": [],
   "source": [
    "eta = [fp.CellVariable(mesh=mesh, name=r\"$\\eta_{i}$\".format(i=i+1), hasOld=True) for i in range(10)]"
   ]
  },
  {
   "cell_type": "code",
   "execution_count": 9,
   "metadata": {
    "collapsed": true
   },
   "outputs": [],
   "source": [
    "f1 = -(A/2)*(C - Cm)**2 + (B/4)*(C - Cm)**4 + (Dalpha/4)*(C - Calpha)**4 + (Dbeta/4)*(C - Cbeta)**4\n",
    "f1.name = \"$f_1$\"\n",
    "\n",
    "f2 = []\n",
    "for i, etai in enumerate(eta):\n",
    "    f2i = -(gamma/2)*(C - Calpha)**2 * etai**2 + (beta/4)*etai**4\n",
    "    f2i.name = \"$f_{{2{i}}}$\".format(i=i+1)\n",
    "    f2.append(f2i)\n",
    "\n",
    "f3 = []\n",
    "for i, etai in enumerate(eta):\n",
    "    f3i = []\n",
    "    for j, etaj in enumerate(eta):\n",
    "        if etaj is not etai:\n",
    "            f3ij = (epsilonij/2) * etai**2 * etaj**2 \n",
    "            f3ij.name = \"$f_{{3{i}{j}}}$\".format(i=i+1, j=j+1)\n",
    "        else:\n",
    "            f3ij = None\n",
    "        f3i.append(f3ij)\n",
    "    f3.append(f3i)\n",
    "    \n",
    "f0 = f1\n",
    "for f2i in f2:\n",
    "    f0 += f2i\n",
    "for f3i in f3:\n",
    "    for f3ij in f3i:\n",
    "        if f3ij is not None:\n",
    "            f0 += f3ij\n",
    "f0.name = \"$f_0$\""
   ]
  },
  {
   "cell_type": "code",
   "execution_count": 10,
   "metadata": {
    "collapsed": true
   },
   "outputs": [],
   "source": [
    "f = f0 + (kappaC/2.)*(C.grad.mag)**2\n",
    "for etai in eta:\n",
    "    f += (kappai/2.)*(etai.grad.mag)**2\n",
    "f.name = \"f\""
   ]
  },
  {
   "cell_type": "code",
   "execution_count": 11,
   "metadata": {
    "collapsed": true
   },
   "outputs": [],
   "source": [
    "Cf = C.arithmeticFaceValue\n",
    "Cf.name = \"C\"\n",
    "eqC = (fp.TransientTerm(coeff=1., var=C)\n",
    "       == fp.DiffusionTerm(coeff=D*(-A + 3*B*(Cf - Cm)**2 \n",
    "                                    + 3*Dalpha*(Cf - Calpha)**2 \n",
    "                                    + 3*Dbeta*(Cf - Cbeta)**2), var=C)\n",
    "       - fp.DiffusionTerm(coeff=(D,kappaC), var=C))\n",
    "for etai in eta:\n",
    "    eqC += fp.DiffusionTerm(coeff=D*gamma*etai**2, var=C)\n",
    "    eqC += fp.DiffusionTerm(coeff=2*D*gamma*(Cf-Calpha), var=etai)\n",
    "#    eqC += (fp.ConvectionTerm(coeff=2*D*gamma*etai.faceGrad, var=C) \n",
    "#            - (2*D*gamma*Calpha*etai.faceGrad).divergence)"
   ]
  },
  {
   "cell_type": "code",
   "execution_count": 12,
   "metadata": {
    "collapsed": true
   },
   "outputs": [],
   "source": [
    "eq_eta = []\n",
    "for etai in eta:\n",
    "    eqi = (fp.TransientTerm(coeff=1., var=etai)\n",
    "           == fp.ImplicitSourceTerm(coeff=Li*gamma*(C-Calpha)*etai, var=C)\n",
    "           - fp.ImplicitSourceTerm(coeff=Li*gamma*(C-Calpha)*Calpha, var=etai)\n",
    "           - fp.ImplicitSourceTerm(coeff=Li*beta*etai**2, var=etai)\n",
    "           + fp.DiffusionTerm(coeff=Li*kappai, var=etai))\n",
    "    for etaj in eta:\n",
    "        if etaj is not etai:\n",
    "            eqi += fp.ImplicitSourceTerm(coeff=Li*epsilonij*etaj**2, var=etai)\n",
    "    eq_eta.append(eqi)"
   ]
  },
  {
   "cell_type": "code",
   "execution_count": 13,
   "metadata": {
    "collapsed": true
   },
   "outputs": [],
   "source": [
    "eq_eta = []\n",
    "for etai in eta:\n",
    "    eqi = (fp.TransientTerm(coeff=1., var=etai)\n",
    "           == fp.ImplicitSourceTerm(coeff=Li*gamma*(C-Calpha)**2, var=etai)\n",
    "           - fp.ImplicitSourceTerm(coeff=Li*beta*etai**2, var=etai)\n",
    "           + fp.DiffusionTerm(coeff=Li*kappai, var=etai))\n",
    "    for etaj in eta:\n",
    "        if etaj is not etai:\n",
    "            eqi += fp.ImplicitSourceTerm(coeff=Li*epsilonij*etaj**2, var=etai)\n",
    "    eq_eta.append(eqi)"
   ]
  },
  {
   "cell_type": "code",
   "execution_count": 14,
   "metadata": {
    "collapsed": true
   },
   "outputs": [],
   "source": [
    "eq = eqC\n",
    "for eq_etai in eq_eta:\n",
    "    eq &= eq_etai"
   ]
  },
  {
   "cell_type": "code",
   "execution_count": 15,
   "metadata": {
    "collapsed": true
   },
   "outputs": [],
   "source": [
    "phase = 0.\n",
    "for i, etai in enumerate(eta):\n",
    "    phase += (i+1 + etai) * (etai > 0.01)\n",
    "phase.name = \"$\\eta$\""
   ]
  },
  {
   "cell_type": "code",
   "execution_count": 16,
   "metadata": {
    "collapsed": false
   },
   "outputs": [
    {
     "name": "stdout",
     "output_type": "stream",
     "text": [
      "0.0 0.0 0.0\n"
     ]
    }
   ],
   "source": [
    "print min(eta[0]), min(eta[0]), eta[0].cellVolumeAverage"
   ]
  },
  {
   "cell_type": "code",
   "execution_count": 17,
   "metadata": {
    "collapsed": false
   },
   "outputs": [
    {
     "data": {
      "image/png": "[encoded data removed]",
      "text/plain": [
       "<matplotlib.figure.Figure at 0x7ff0f63eff50>"
      ]
     },
     "metadata": {},
     "output_type": "display_data"
    }
   ],
   "source": [
    "viewer = fp.MatplotlibViewer(vars=phase)"
   ]
  },
  {
   "cell_type": "markdown",
   "metadata": {},
   "source": [
    "## initialize with noise"
   ]
  },
  {
   "cell_type": "code",
   "execution_count": 18,
   "metadata": {
    "collapsed": true
   },
   "outputs": [],
   "source": [
    "epsilon = 0.01\n",
    "q = [[0.1*nmx.sqrt(2.)], [0.1*nmx.sqrt(3.)]]\n",
    "C.value = 0.45 + epsilon * nmx.cos(nmx.dot(q, mesh.cellCenters))"
   ]
  },
  {
   "cell_type": "code",
   "execution_count": 19,
   "metadata": {
    "collapsed": true
   },
   "outputs": [],
   "source": [
    "epsilon = [0.979285, 0.219812, 0.837709, 0.695603, 0.225115, \n",
    "           0.389266, 0.585953, 0.614471, 0.918038, 0.518569]"
   ]
  },
  {
   "cell_type": "code",
   "execution_count": 20,
   "metadata": {
    "collapsed": true
   },
   "outputs": [],
   "source": [
    "for i, (etai, epsiloni) in enumerate(zip(eta, epsilon)):\n",
    "    qi = [[0.01*nmx.sqrt(23 + i + 1)], [0.01*nmx.sqrt(149 + i + 1)]]\n",
    "    etai.value = 0.01 * epsiloni * nmx.cos(nmx.dot(qi, mesh.cellCenters))**2"
   ]
  },
  {
   "cell_type": "markdown",
   "metadata": {},
   "source": [
    "## restart"
   ]
  },
  {
   "cell_type": "code",
   "execution_count": 21,
   "metadata": {
    "collapsed": false
   },
   "outputs": [
    {
     "ename": "IOError",
     "evalue": "[Errno 2] No such file or directory: '400.gz'",
     "output_type": "error",
     "traceback": [
      "\u001b[1;31m---------------------------------------------------------------------------\u001b[0m",
      "\u001b[1;31mIOError\u001b[0m                                   Traceback (most recent call last)",
      "\u001b[1;32m<ipython-input-21-0e887671f692>\u001b[0m in \u001b[0;36m<module>\u001b[1;34m()\u001b[0m\n\u001b[1;32m----> 1\u001b[1;33m \u001b[0mvalues\u001b[0m \u001b[1;33m=\u001b[0m \u001b[0mnmx\u001b[0m\u001b[1;33m.\u001b[0m\u001b[0mloadtxt\u001b[0m\u001b[1;33m(\u001b[0m\u001b[0mfname\u001b[0m\u001b[1;33m=\u001b[0m\u001b[1;34m\"400.gz\"\u001b[0m\u001b[1;33m,\u001b[0m \u001b[0mskiprows\u001b[0m\u001b[1;33m=\u001b[0m\u001b[1;36m1\u001b[0m\u001b[1;33m,\u001b[0m \u001b[0munpack\u001b[0m\u001b[1;33m=\u001b[0m\u001b[0mTrue\u001b[0m\u001b[1;33m)\u001b[0m\u001b[1;33m\u001b[0m\u001b[0m\n\u001b[0m\u001b[0;32m      2\u001b[0m \u001b[0mx\u001b[0m\u001b[1;33m,\u001b[0m \u001b[0my\u001b[0m \u001b[1;33m=\u001b[0m \u001b[0mvalues\u001b[0m\u001b[1;33m[\u001b[0m\u001b[1;36m0\u001b[0m\u001b[1;33m:\u001b[0m\u001b[1;36m2\u001b[0m\u001b[1;33m]\u001b[0m\u001b[1;33m\u001b[0m\u001b[0m\n\u001b[0;32m      3\u001b[0m \u001b[0mCval\u001b[0m \u001b[1;33m=\u001b[0m \u001b[0mvalues\u001b[0m\u001b[1;33m[\u001b[0m\u001b[1;36m2\u001b[0m\u001b[1;33m]\u001b[0m\u001b[1;33m\u001b[0m\u001b[0m\n\u001b[0;32m      4\u001b[0m \u001b[0metaval\u001b[0m \u001b[1;33m=\u001b[0m \u001b[0mvalues\u001b[0m\u001b[1;33m[\u001b[0m\u001b[1;36m3\u001b[0m\u001b[1;33m:\u001b[0m\u001b[1;33m]\u001b[0m\u001b[1;33m\u001b[0m\u001b[0m\n",
      "\u001b[1;32m/users/and9/miniconda2/lib/python2.7/site-packages/numpy/lib/npyio.pyc\u001b[0m in \u001b[0;36mloadtxt\u001b[1;34m(fname, dtype, comments, delimiter, converters, skiprows, usecols, unpack, ndmin)\u001b[0m\n\u001b[0;32m    684\u001b[0m             \u001b[1;32mif\u001b[0m \u001b[0mfname\u001b[0m\u001b[1;33m.\u001b[0m\u001b[0mendswith\u001b[0m\u001b[1;33m(\u001b[0m\u001b[1;34m'.gz'\u001b[0m\u001b[1;33m)\u001b[0m\u001b[1;33m:\u001b[0m\u001b[1;33m\u001b[0m\u001b[0m\n\u001b[0;32m    685\u001b[0m                 \u001b[1;32mimport\u001b[0m \u001b[0mgzip\u001b[0m\u001b[1;33m\u001b[0m\u001b[0m\n\u001b[1;32m--> 686\u001b[1;33m                 \u001b[0mfh\u001b[0m \u001b[1;33m=\u001b[0m \u001b[0miter\u001b[0m\u001b[1;33m(\u001b[0m\u001b[0mgzip\u001b[0m\u001b[1;33m.\u001b[0m\u001b[0mGzipFile\u001b[0m\u001b[1;33m(\u001b[0m\u001b[0mfname\u001b[0m\u001b[1;33m)\u001b[0m\u001b[1;33m)\u001b[0m\u001b[1;33m\u001b[0m\u001b[0m\n\u001b[0m\u001b[0;32m    687\u001b[0m             \u001b[1;32melif\u001b[0m \u001b[0mfname\u001b[0m\u001b[1;33m.\u001b[0m\u001b[0mendswith\u001b[0m\u001b[1;33m(\u001b[0m\u001b[1;34m'.bz2'\u001b[0m\u001b[1;33m)\u001b[0m\u001b[1;33m:\u001b[0m\u001b[1;33m\u001b[0m\u001b[0m\n\u001b[0;32m    688\u001b[0m                 \u001b[1;32mimport\u001b[0m \u001b[0mbz2\u001b[0m\u001b[1;33m\u001b[0m\u001b[0m\n",
      "\u001b[1;32m/users/and9/miniconda2/lib/python2.7/gzip.pyc\u001b[0m in \u001b[0;36m__init__\u001b[1;34m(self, filename, mode, compresslevel, fileobj, mtime)\u001b[0m\n\u001b[0;32m     92\u001b[0m             \u001b[0mmode\u001b[0m \u001b[1;33m+=\u001b[0m \u001b[1;34m'b'\u001b[0m\u001b[1;33m\u001b[0m\u001b[0m\n\u001b[0;32m     93\u001b[0m         \u001b[1;32mif\u001b[0m \u001b[0mfileobj\u001b[0m \u001b[1;32mis\u001b[0m \u001b[0mNone\u001b[0m\u001b[1;33m:\u001b[0m\u001b[1;33m\u001b[0m\u001b[0m\n\u001b[1;32m---> 94\u001b[1;33m             \u001b[0mfileobj\u001b[0m \u001b[1;33m=\u001b[0m \u001b[0mself\u001b[0m\u001b[1;33m.\u001b[0m\u001b[0mmyfileobj\u001b[0m \u001b[1;33m=\u001b[0m \u001b[0m__builtin__\u001b[0m\u001b[1;33m.\u001b[0m\u001b[0mopen\u001b[0m\u001b[1;33m(\u001b[0m\u001b[0mfilename\u001b[0m\u001b[1;33m,\u001b[0m \u001b[0mmode\u001b[0m \u001b[1;32mor\u001b[0m \u001b[1;34m'rb'\u001b[0m\u001b[1;33m)\u001b[0m\u001b[1;33m\u001b[0m\u001b[0m\n\u001b[0m\u001b[0;32m     95\u001b[0m         \u001b[1;32mif\u001b[0m \u001b[0mfilename\u001b[0m \u001b[1;32mis\u001b[0m \u001b[0mNone\u001b[0m\u001b[1;33m:\u001b[0m\u001b[1;33m\u001b[0m\u001b[0m\n\u001b[0;32m     96\u001b[0m             \u001b[1;31m# Issue #13781: os.fdopen() creates a fileobj with a bogus name\u001b[0m\u001b[1;33m\u001b[0m\u001b[1;33m\u001b[0m\u001b[0m\n",
      "\u001b[1;31mIOError\u001b[0m: [Errno 2] No such file or directory: '400.gz'"
     ]
    }
   ],
   "source": [
    "values = nmx.loadtxt(fname=\"400.gz\", skiprows=1, unpack=True)\n",
    "x, y = values[0:2]\n",
    "Cval = values[2]\n",
    "etaval = values[3:]"
   ]
  },
  {
   "cell_type": "code",
   "execution_count": 22,
   "metadata": {
    "collapsed": false
   },
   "outputs": [
    {
     "ename": "NameError",
     "evalue": "name 'Cval' is not defined",
     "output_type": "error",
     "traceback": [
      "\u001b[1;31m---------------------------------------------------------------------------\u001b[0m",
      "\u001b[1;31mNameError\u001b[0m                                 Traceback (most recent call last)",
      "\u001b[1;32m<ipython-input-22-7d5518d75cac>\u001b[0m in \u001b[0;36m<module>\u001b[1;34m()\u001b[0m\n\u001b[1;32m----> 1\u001b[1;33m \u001b[0mC\u001b[0m\u001b[1;33m.\u001b[0m\u001b[0mvalue\u001b[0m \u001b[1;33m=\u001b[0m \u001b[0mCval\u001b[0m\u001b[1;33m\u001b[0m\u001b[0m\n\u001b[0m\u001b[0;32m      2\u001b[0m \u001b[1;32mfor\u001b[0m \u001b[0metai\u001b[0m\u001b[1;33m,\u001b[0m \u001b[0metavali\u001b[0m \u001b[1;32min\u001b[0m \u001b[0mzip\u001b[0m\u001b[1;33m(\u001b[0m\u001b[0meta\u001b[0m\u001b[1;33m,\u001b[0m \u001b[0metaval\u001b[0m\u001b[1;33m)\u001b[0m\u001b[1;33m:\u001b[0m\u001b[1;33m\u001b[0m\u001b[0m\n\u001b[0;32m      3\u001b[0m     \u001b[0metai\u001b[0m\u001b[1;33m.\u001b[0m\u001b[0mvalue\u001b[0m \u001b[1;33m=\u001b[0m \u001b[0metavali\u001b[0m\u001b[1;33m\u001b[0m\u001b[0m\n",
      "\u001b[1;31mNameError\u001b[0m: name 'Cval' is not defined"
     ]
    }
   ],
   "source": [
    "C.value = Cval\n",
    "for etai, etavali in zip(eta, etaval):\n",
    "    etai.value = etavali"
   ]
  },
  {
   "cell_type": "code",
   "execution_count": null,
   "metadata": {
    "collapsed": true
   },
   "outputs": [],
   "source": [
    "fp.MatplotlibViewer(vars=C).plot()"
   ]
  },
  {
   "cell_type": "code",
   "execution_count": 23,
   "metadata": {
    "collapsed": true
   },
   "outputs": [],
   "source": [
    "dt = 0.01\n",
    "elapsed = 4.0 # 0.\n",
    "saved = elapsed\n",
    "duration = 10000.\n",
    "step = 400 # 0"
   ]
  },
  {
   "cell_type": "code",
   "execution_count": null,
   "metadata": {
    "collapsed": true
   },
   "outputs": [],
   "source": [
    "fp.tools.dump.write(mesh, filename=\"mesh.dmp\")"
   ]
  },
  {
   "cell_type": "code",
   "execution_count": null,
   "metadata": {
    "collapsed": true
   },
   "outputs": [],
   "source": [
    "fp.TSVViewer(vars=[C] + eta).plot(filename=\"{step}.gz\".format(step=0))"
   ]
  },
  {
   "cell_type": "code",
   "execution_count": null,
   "metadata": {
    "collapsed": true
   },
   "outputs": [],
   "source": [
    "with open(\"stats.txt\", 'w') as stats:\n",
    "    stats.write(\"\\t\".join([\"step\", \"t\", \"dt\", \"Cmin\", \"Cmax\", \"f\"]) + \"\\n\")"
   ]
  },
  {
   "cell_type": "code",
   "execution_count": null,
   "metadata": {
    "collapsed": true
   },
   "outputs": [],
   "source": [
    "viewerC = fp.MatplotlibViewer(vars=C)"
   ]
  },
  {
   "cell_type": "code",
   "execution_count": null,
   "metadata": {
    "collapsed": true
   },
   "outputs": [],
   "source": [
    "while elapsed < duration:\n",
    "    C.updateOld()\n",
    "    for etai in eta:\n",
    "        etai.updateOld()\n",
    "    for sweep in range(6):\n",
    "#        res = eq.sweep(dt=dt)\n",
    "        res = [eqC.sweep(C, dt=dt)] #, solver=fp.LinearLUSolver())\n",
    "        res = res + [eq_etai.sweep(etai, dt=dt) for (eq_etai, etai) in zip(eq_eta, eta)]\n",
    "    if max(res) < 0.1:\n",
    "        step += 1\n",
    "        elapsed += dt\n",
    "        dt *= 1.1\n",
    "        # viewer.plot()\n",
    "        if elapsed - saved > 0.1:\n",
    "            fp.TSVViewer(vars=[C] + eta).plot(filename=\"{step}.gz\".format(step=step))\n",
    "            viewer.plot()\n",
    "            saved = elapsed\n",
    "        with open(\"stats.txt\", 'a') as stats:\n",
    "            stats.write(\"\\t\".join([str(it) for it in [step, elapsed, dt, min(C), max(C), \n",
    "                                                      f.cellVolumeAverage * mesh.cellVolumes.sum()]]) + \"\\n\")\n",
    "    else:\n",
    "        dt *= 0.8\n",
    "        C.value = C.old.value\n",
    "    print dt"
   ]
  }
 ],
 "metadata": {
  "kernelspec": {
   "display_name": "Python 2",
   "language": "python",
   "name": "python2"
  },
  "language_info": {
   "codemirror_mode": {
    "name": "ipython",
    "version": 2
   },
   "file_extension": ".py",
   "mimetype": "text/x-python",
   "name": "python",
   "nbconvert_exporter": "python",
   "pygments_lexer": "ipython2",
   "version": "2.7.11"
  }
 },
 "nbformat": 4,
 "nbformat_minor": 0
}
