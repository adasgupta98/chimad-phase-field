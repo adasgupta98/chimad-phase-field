{
 "cells": [
  {
   "cell_type": "markdown",
   "metadata": {},
   "source": [
    "# Table of Contents\n",
    "* [1a. Periodic spinodal decomposition on a square domain](#1a.-Periodic-spinodal-decomposition-on-a-square-domain)\n",
    "\t* [Define $f_0$](#Define-$f_0$)\n",
    "\t* [Define the Equation](#Define-the-Equation)\n",
    "\t* [Solve the Equation](#Solve-the-Equation)\n",
    "\t* [Run the Example Locally](#Run-the-Example-Locally)\n",
    "\t* [Free Energy Plots](#Free-Energy-Plots)"
   ]
  },
  {
   "cell_type": "markdown",
   "metadata": {},
   "source": [
    "# 2a. Ostwald ripening on a square domain"
   ]
  },
  {
   "cell_type": "markdown",
   "metadata": {},
   "source": [
    "The chemical free energy is given by\n",
    "\n",
    "$$ f_{chem}\\left[ c, \\eta_{1},\\dots \\eta_{p}\\right] = f_0\\left[ c, \\eta_{1},\\dots \\eta_{p}) \\right] = f^{\\alpha}(c)[1-h(\\eta_{1}, \\dots \\eta_{p})]+ f^{\\beta}(c)h(\\eta_{1}, \\dots \\eta_{p})+wg(\\eta_{1}, \\dots \\eta_{p})$$\n",
    "\n",
    "where\n",
    "\n",
    "$$f^{\\alpha}(c) = {\\rho}^2(c-c_{\\alpha})^2$$\n",
    "$$f^{\\beta}(c) = {\\rho}^2(c_{\\beta}-c)^2$$\n",
    "$$h(\\eta_{1}, \\dots \\eta_{p}) = \\sum_{i=1}^{p}{ {\\eta_{i}}^3(6{\\eta_{i}}^2-15\\eta_{i}+10)}$$\n",
    "$$g(\\eta_{1}, \\dots \\eta_{p}) = \\sum_{i=1}^{p}{ {\\eta_{i}}^2(1-{\\eta_{i}})}\n",
    "=\\alpha \\sum_{i=1}^{p}\\sum_{j{\\not=}i}^{p}{{\\eta_{i}}^2{\\eta_{j}}^2}.$$\n",
    "\n",
    "The Ginzberg-Landau free energy density is then taken to be\n",
    "\n",
    "$$ f_0\\left[ c, \\eta_{1},\\dots \\eta_{p} \\right] + \\frac{\\kappa_{c}}{2}\\left|\\nabla c\\right|^2 + \\sum_{i=1}^{p} \\frac{\\kappa_{\\eta}}{2}\\left|\\nabla \\eta_{i}\\right|^2$$"
   ]
  },
  {
   "cell_type": "markdown",
   "metadata": {},
   "source": [
    "In FiPy we write the evolution equations: \n",
    "\n",
    "Cahn-Hilliard\n",
    "$$ \\frac{\\partial c}{\\partial t} = \\nabla \\cdot  \\left[\n",
    "       M \\left( c \\right) \\left( \\frac{ \\partial^2 f_0 }{ \\partial c^2} \\nabla c - \\kappa \\nabla \\nabla^2 c \\right)   \\right] $$\n",
    "\n",
    "Allen-Cahn\n",
    "$$ \\frac{\\partial \\eta_{i}}{\\partial t} = -L \\left[\\frac{\\delta F}{\\delta \\eta_{i}}\\right]\n",
    "= -L \\left(\\frac{\\partial f_{0}}{\\partial \\eta_{i}} - {\\kappa}_{\\eta} \\nabla^2 \\eta_{i}\\right)$$"
   ]
  },
  {
   "cell_type": "markdown",
   "metadata": {},
   "source": [
    "## Define the free energy function and take derivatives:"
   ]
  },
  {
   "cell_type": "code",
   "execution_count": 2,
   "metadata": {
    "collapsed": true
   },
   "outputs": [],
   "source": [
    "%matplotlib inline\n",
    "import sympy\n",
    "import fipy as fp\n",
    "from fipy import numerix as nmx\n",
    "import numpy as np\n",
    "import matplotlib.pyplot as plt\n",
    "import os"
   ]
  },
  {
   "cell_type": "markdown",
   "metadata": {},
   "source": [
    "We start by listing parameters of the function."
   ]
  },
  {
   "cell_type": "code",
   "execution_count": 10,
   "metadata": {
    "collapsed": false
   },
   "outputs": [
    {
     "name": "stdout",
     "output_type": "stream",
     "text": [
      "C rho Calpha w alpha kappaC kappai\n",
      "(eta_0, eta_1)\n"
     ]
    }
   ],
   "source": [
    "# parameters which will be given numerical values later\n",
    "C, rho, Calpha, Cbeta, w, alpha, kappaC, kappai = sympy.symbols(\"C rho Calpha Cbeta w alpha kappaC kappai\")\n",
    "print C, rho, Calpha, w, alpha, kappaC, kappai\n",
    "\n",
    "# structural order parameters, etas, which indicate the phase,\n",
    "# one for each energetically equivalent orientation variant\n",
    "eta_string = \" \".join(['eta_{0}'.format(i) for i in range(2)])\n",
    "my_etas = sympy.symbols(eta_string)\n",
    "print my_etas\n",
    "\n",
    "for i in range(2):\n",
    "    exec \"eta_{0} = 'eta_{0}'\".format(i)"
   ]
  },
  {
   "cell_type": "markdown",
   "metadata": {},
   "source": [
    "Now we define the full chemical free energy function."
   ]
  },
  {
   "cell_type": "code",
   "execution_count": 4,
   "metadata": {
    "collapsed": false
   },
   "outputs": [
    {
     "name": "stdout",
     "output_type": "stream",
     "text": [
      "2*alpha*eta_0**2*eta_1**2*w + eta_0**3*rho**2*(-C + Cbeta)**2*(6*eta_0**2 - 15*eta_0 + 10) + eta_0**2*w*(-eta_0 + 1)**2 + eta_1**3*rho**2*(-C + Cbeta)**2*(6*eta_1**2 - 15*eta_1 + 10) + eta_1**2*w*(-eta_1 + 1)**2 + rho**2*(C - Calpha)**2*(-eta_0**3*(6*eta_0**2 - 15*eta_0 + 10) + 1) + rho**2*(C - Calpha)**2*(-eta_1**3*(6*eta_1**2 - 15*eta_1 + 10) + 1)\n"
     ]
    }
   ],
   "source": [
    "f_a = (rho**2)*(C-Calpha)**2\n",
    "f_b = (rho**2)*(Cbeta-C)**2\n",
    "\n",
    "h = []\n",
    "\n",
    "for etai in my_etas:\n",
    "    hi = etai**3 * (6*etai**2 - 15*etai +10)\n",
    "    h.append(hi)\n",
    "\n",
    "g1 = []\n",
    "for etai in my_etas:\n",
    "    g1i = etai**2 * (1 - etai)**2\n",
    "    g1.append(g1i)\n",
    "\n",
    "    \n",
    "g2 = []\n",
    "for etai in my_etas:\n",
    "    g2i = []\n",
    "    for etaj in my_etas:\n",
    "        if etaj is not etai:\n",
    "            g2ij = alpha * etai**2 * etaj**2\n",
    "            g2i.append(g2ij)\n",
    "        else:\n",
    "            g2ij = None\n",
    "    g2 += g2i      \n",
    "\n",
    "g = g1 + g2\n",
    "\n",
    "f0 = 0\n",
    "\n",
    "for hi in h:\n",
    "    f0 += f_a*(1 - hi) + f_b*hi\n",
    "for gi in g:\n",
    "    f0 += w*gi\n",
    "    \n",
    "print f0"
   ]
  },
  {
   "cell_type": "markdown",
   "metadata": {},
   "source": [
    "Now, we can calculate $ \\frac{ \\partial^2 f_0 }{ \\partial c^2} $ using sympy."
   ]
  },
  {
   "cell_type": "code",
   "execution_count": 5,
   "metadata": {
    "collapsed": false
   },
   "outputs": [
    {
     "data": {
      "text/plain": [
       "4*rho**2"
      ]
     },
     "execution_count": 5,
     "metadata": {},
     "output_type": "execute_result"
    }
   ],
   "source": [
    "sympy.diff(f0, C, 2)"
   ]
  },
  {
   "cell_type": "markdown",
   "metadata": {},
   "source": [
    "Similarly, here is $ \\frac{ \\partial^2 f_0 }{ \\partial {\\eta_{i}}^2} $ for each $\\eta_{i}$."
   ]
  },
  {
   "cell_type": "code",
   "execution_count": 17,
   "metadata": {
    "collapsed": false
   },
   "outputs": [
    {
     "name": "stdout",
     "output_type": "stream",
     "text": [
      "2*(2*alpha*eta_1**2*w + 6*eta_0**3*rho**2*(C - Cbeta)**2 + 9*eta_0**2*rho**2*(C - Cbeta)**2*(4*eta_0 - 5) + eta_0**2*w - 3*eta_0*rho**2*(C - Calpha)**2*(8*eta_0**2 + 3*eta_0*(4*eta_0 - 5) - 15*eta_0 + 10) + 3*eta_0*rho**2*(C - Cbeta)**2*(6*eta_0**2 - 15*eta_0 + 10) + 4*eta_0*w*(eta_0 - 1) + w*(eta_0 - 1)**2)\n",
      "240*C*Calpha*eta_0**3*rho**2 - 360*C*Calpha*eta_0**2*rho**2 + 120*C*Calpha*eta_0*rho**2 - 240*C*Cbeta*eta_0**3*rho**2 + 360*C*Cbeta*eta_0**2*rho**2 - 120*C*Cbeta*eta_0*rho**2 - 120*Calpha**2*eta_0**3*rho**2 + 180*Calpha**2*eta_0**2*rho**2 - 60*Calpha**2*eta_0*rho**2 + 120*Cbeta**2*eta_0**3*rho**2 - 180*Cbeta**2*eta_0**2*rho**2 + 60*Cbeta**2*eta_0*rho**2 + 4*alpha*eta_1**2*w + 12*eta_0**2*w - 12*eta_0*w + 2*w\n",
      "\n",
      "\n",
      "2*(2*alpha*eta_0**2*w + 6*eta_1**3*rho**2*(C - Cbeta)**2 + 9*eta_1**2*rho**2*(C - Cbeta)**2*(4*eta_1 - 5) + eta_1**2*w - 3*eta_1*rho**2*(C - Calpha)**2*(8*eta_1**2 + 3*eta_1*(4*eta_1 - 5) - 15*eta_1 + 10) + 3*eta_1*rho**2*(C - Cbeta)**2*(6*eta_1**2 - 15*eta_1 + 10) + 4*eta_1*w*(eta_1 - 1) + w*(eta_1 - 1)**2)\n",
      "240*C*Calpha*eta_1**3*rho**2 - 360*C*Calpha*eta_1**2*rho**2 + 120*C*Calpha*eta_1*rho**2 - 240*C*Cbeta*eta_1**3*rho**2 + 360*C*Cbeta*eta_1**2*rho**2 - 120*C*Cbeta*eta_1*rho**2 - 120*Calpha**2*eta_1**3*rho**2 + 180*Calpha**2*eta_1**2*rho**2 - 60*Calpha**2*eta_1*rho**2 + 120*Cbeta**2*eta_1**3*rho**2 - 180*Cbeta**2*eta_1**2*rho**2 + 60*Cbeta**2*eta_1*rho**2 + 4*alpha*eta_0**2*w + 12*eta_1**2*w - 12*eta_1*w + 2*w\n",
      "\n",
      "\n"
     ]
    }
   ],
   "source": [
    "for etai in my_etas:\n",
    "    print sympy.diff(f0, etai, 2)\n",
    "    print sympy.expand(sympy.diff(f0,etai, 2))\n",
    "    print \"\\n\""
   ]
  },
  {
   "cell_type": "markdown",
   "metadata": {},
   "source": [
    "These functions will be used later in the solution."
   ]
  },
  {
   "cell_type": "markdown",
   "metadata": {},
   "source": [
    "## Define the mesh:"
   ]
  },
  {
   "cell_type": "markdown",
   "metadata": {},
   "source": [
    "This problem will be run on a square domain with periodic boundary conditions."
   ]
  },
  {
   "cell_type": "code",
   "execution_count": 7,
   "metadata": {
    "collapsed": true
   },
   "outputs": [],
   "source": [
    "N = 200\n",
    "mesh = fp.PeriodicGrid2D(nx=N, ny=N)"
   ]
  },
  {
   "cell_type": "markdown",
   "metadata": {},
   "source": [
    "Now, we assign numerical values to the previously listed parameters."
   ]
  },
  {
   "cell_type": "code",
   "execution_count": 13,
   "metadata": {
    "collapsed": false
   },
   "outputs": [
    {
     "name": "stdout",
     "output_type": "stream",
     "text": [
      "[$\\eta_1$, $\\eta_2$]\n"
     ]
    }
   ],
   "source": [
    "Calpha = fp.Variable(0.3, name=r\"$C_\\alpha$\")\n",
    "Cbeta = fp.Variable(0.3, name=r\"$C_\\beta$\")\n",
    "C_0 = fp.Variable(0.5, name=r\"$C_0$\")\n",
    "\n",
    "M = fp.Variable(5., name=r\"$C_\\alpha$\")\n",
    "L = fp.Variable(5., name=r\"$C_\\alpha$\")\n",
    "kappai = fp.Variable(3., name=r\"$\\kappa_i$\")\n",
    "kappaC = fp.Variable(3., name=r\"$\\kappa_C$\")\n",
    "\n",
    "rho_s = fp.Variable(nmx.sqrt(2), name=r\"$\\rho_s$\")\n",
    "w = fp.Variable(1., name=r\"$\\w$\")\n",
    "alpha = fp.Variable(5., name=r\"$\\alpha$\")\n",
    "\n",
    "epsilonij = fp.Variable(0.05, name=r\"$\\epsilon_{ij}$\")\n",
    "C = fp.CellVariable(mesh=mesh, name=\"C\", hasOld=True)\n",
    "eta = [fp.CellVariable(mesh=mesh, name=r\"$\\eta_{i}$\".format(i=i+1), hasOld=True) for i in range(2)]\n",
    "print eta"
   ]
  },
  {
   "cell_type": "markdown",
   "metadata": {},
   "source": [
    "While defining the equation with FiPy, recall `f_0` from above calculated using Sympy. We add in gradient energy terms to obtain the complete free energy density."
   ]
  },
  {
   "cell_type": "code",
   "execution_count": 15,
   "metadata": {
    "collapsed": false
   },
   "outputs": [],
   "source": [
    "f = f0 + (kappaC/2.)*(C.grad.mag)**2\n",
    "for etai in eta:\n",
    "    f += (kappai/2.)*(etai.grad.mag)**2\n",
    "f.name = \"f\""
   ]
  },
  {
   "cell_type": "markdown",
   "metadata": {},
   "source": [
    "We now define the equation."
   ]
  },
  {
   "cell_type": "code",
   "execution_count": null,
   "metadata": {
    "collapsed": true
   },
   "outputs": [],
   "source": [
    "Cf = C.arithmeticFaceValue\n",
    "Cf.name = \"C\"\n",
    "\n",
    "eqC = (fp.TransientTerm(coeff=1., var=C)\n",
    "       == fp.DiffusionTerm(coeff=M*(4*rho_s**2), var=C)\n",
    "       - fp.DiffusionTerm(coeff=(D,kappaC), var=C))\n",
    "       \n",
    "for etai in eta:\n",
    "    eqC += fp.DiffusionTerm(coeff=M*(rho)**2 * etai**3 * (6*etai**2 - 15*etai +10) * 2 * (2*Cf-Calpha-Cbeta), var=Cf)\n",
    "    eqC += fp.DiffusionTerm(coeff=2*D*gamma*(Cf-Calpha), var=etai)"
   ]
  },
  {
   "cell_type": "markdown",
   "metadata": {},
   "source": [
    "## restart"
   ]
  },
  {
   "cell_type": "markdown",
   "metadata": {
    "collapsed": true
   },
   "source": [
    "mesh = fp.dump.read(\"mesh.dmp\")"
   ]
  },
  {
   "cell_type": "code",
   "execution_count": 11,
   "metadata": {
    "collapsed": false
   },
   "outputs": [],
   "source": [
    "C = fp.CellVariable(mesh=mesh, name=\"C\", hasOld=True)"
   ]
  },
  {
   "cell_type": "code",
   "execution_count": 12,
   "metadata": {
    "collapsed": false
   },
   "outputs": [
    {
     "name": "stdout",
     "output_type": "stream",
     "text": [
      "[$\\eta_1$, $\\eta_2$]\n"
     ]
    }
   ],
   "source": [
    "eta = [fp.CellVariable(mesh=mesh, name=r\"$\\eta_{i}$\".format(i=i+1), hasOld=True) for i in range(2)]\n",
    "print eta"
   ]
  },
  {
   "cell_type": "code",
   "execution_count": 45,
   "metadata": {
    "collapsed": true
   },
   "outputs": [],
   "source": [
    "f = f0 + (kappaC/2.)*(C.grad.mag)**2\n",
    "for etai in eta:\n",
    "    f += (kappai/2.)*(etai.grad.mag)**2\n",
    "f.name = \"f\""
   ]
  },
  {
   "cell_type": "code",
   "execution_count": 46,
   "metadata": {
    "collapsed": false
   },
   "outputs": [
    {
     "ename": "SyntaxError",
     "evalue": "invalid syntax (<ipython-input-46-456fa114c6a7>, line 4)",
     "output_type": "error",
     "traceback": [
      "\u001b[1;36m  File \u001b[1;32m\"<ipython-input-46-456fa114c6a7>\"\u001b[1;36m, line \u001b[1;32m4\u001b[0m\n\u001b[1;33m    == fp.DiffusionTerm(coeff=M*(2 * rho**2 *), var=C)\u001b[0m\n\u001b[1;37m                                             ^\u001b[0m\n\u001b[1;31mSyntaxError\u001b[0m\u001b[1;31m:\u001b[0m invalid syntax\n"
     ]
    }
   ],
   "source": [
    "Cf = C.arithmeticFaceValue\n",
    "Cf.name = \"C\"\n",
    "eqC = (fp.TransientTerm(coeff=1., var=C)\n",
    "       == fp.DiffusionTerm(coeff=M*(2*(rho**2)*(1-h), var=C)\n",
    "       - fp.DiffusionTerm(coeff=(D,kappaC), var=C))\n",
    "for etai in eta:\n",
    "    eqC += fp.DiffusionTerm(coeff=M*(rho)**2 * etai**3 * (6*etai**2 - 15*etai +10) * 2 * (2*Cf-Calpha-Cbeta), var=Cf)\n",
    "    eqC += fp.DiffusionTerm(coeff=2*D*gamma*(Cf-Calpha), var=etai)\n",
    "#    eqC += (fp.ConvectionTerm(coeff=2*D*gamma*etai.faceGrad, var=C) \n",
    "#            - (2*D*gamma*Calpha*etai.faceGrad).divergence)"
   ]
  },
  {
   "cell_type": "code",
   "execution_count": null,
   "metadata": {
    "collapsed": true
   },
   "outputs": [],
   "source": [
    "eq_eta = []\n",
    "for etai in eta:\n",
    "    eqi = (fp.TransientTerm(coeff=1., var=etai)\n",
    "           == fp.ImplicitSourceTerm(coeff=Li*gamma*(C-Calpha)*etai, var=C)\n",
    "           - fp.ImplicitSourceTerm(coeff=Li*gamma*(C-Calpha)*Calpha, var=etai)\n",
    "           - fp.ImplicitSourceTerm(coeff=Li*beta*etai**2, var=etai)\n",
    "           + fp.DiffusionTerm(coeff=Li*kappai, var=etai))\n",
    "    for etaj in eta:\n",
    "        if etaj is not etai:\n",
    "            eqi += fp.ImplicitSourceTerm(coeff=Li*epsilonij*etaj**2, var=etai)\n",
    "    eq_eta.append(eqi)"
   ]
  },
  {
   "cell_type": "code",
   "execution_count": null,
   "metadata": {
    "collapsed": true
   },
   "outputs": [],
   "source": [
    "eq_eta = []\n",
    "for etai in eta:\n",
    "    eqi = (fp.TransientTerm(coeff=1., var=etai)\n",
    "           == fp.ImplicitSourceTerm(coeff=Li*gamma*(C-Calpha)**2, var=etai)\n",
    "           - fp.ImplicitSourceTerm(coeff=Li*beta*etai**2, var=etai)\n",
    "           + fp.DiffusionTerm(coeff=Li*kappai, var=etai))\n",
    "    for etaj in eta:\n",
    "        if etaj is not etai:\n",
    "            eqi += fp.ImplicitSourceTerm(coeff=Li*epsilonij*etaj**2, var=etai)\n",
    "    eq_eta.append(eqi)"
   ]
  },
  {
   "cell_type": "code",
   "execution_count": null,
   "metadata": {
    "collapsed": true
   },
   "outputs": [],
   "source": [
    "eq = eqC\n",
    "for eq_etai in eq_eta:\n",
    "    eq &= eq_etai"
   ]
  },
  {
   "cell_type": "code",
   "execution_count": null,
   "metadata": {
    "collapsed": true
   },
   "outputs": [],
   "source": [
    "phase = 0.\n",
    "for i, etai in enumerate(eta):\n",
    "    phase += (i+1 + etai) * (etai > 0.01)\n",
    "phase.name = \"$\\eta$\""
   ]
  },
  {
   "cell_type": "code",
   "execution_count": null,
   "metadata": {
    "collapsed": false
   },
   "outputs": [],
   "source": [
    "print min(eta[0]), min(eta[0]), eta[0].cellVolumeAverage"
   ]
  },
  {
   "cell_type": "code",
   "execution_count": null,
   "metadata": {
    "collapsed": false
   },
   "outputs": [],
   "source": [
    "viewer = fp.MatplotlibViewer(vars=phase)"
   ]
  },
  {
   "cell_type": "markdown",
   "metadata": {},
   "source": [
    "## Initialize with noise"
   ]
  },
  {
   "cell_type": "code",
   "execution_count": null,
   "metadata": {
    "collapsed": true
   },
   "outputs": [],
   "source": [
    "epsilon = 0.01\n",
    "q = [[0.1*nmx.sqrt(2.)], [0.1*nmx.sqrt(3.)]]\n",
    "C.value = 0.45 + epsilon * nmx.cos(nmx.dot(q, mesh.cellCenters))"
   ]
  },
  {
   "cell_type": "code",
   "execution_count": null,
   "metadata": {
    "collapsed": true
   },
   "outputs": [],
   "source": [
    "epsilon = [0.979285, 0.219812, 0.837709, 0.695603, 0.225115, \n",
    "           0.389266, 0.585953, 0.614471, 0.918038, 0.518569]"
   ]
  },
  {
   "cell_type": "code",
   "execution_count": null,
   "metadata": {
    "collapsed": true
   },
   "outputs": [],
   "source": [
    "for i, (etai, epsiloni) in enumerate(zip(eta, epsilon)):\n",
    "    qi = [[0.01*nmx.sqrt(23 + i + 1)], [0.01*nmx.sqrt(149 + i + 1)]]\n",
    "    etai.value = 0.01 * epsiloni * nmx.cos(nmx.dot(qi, mesh.cellCenters))**2"
   ]
  },
  {
   "cell_type": "markdown",
   "metadata": {},
   "source": [
    "## restart"
   ]
  },
  {
   "cell_type": "code",
   "execution_count": null,
   "metadata": {
    "collapsed": false
   },
   "outputs": [],
   "source": [
    "values = nmx.loadtxt(fname=\"400.gz\", skiprows=1, unpack=True)\n",
    "x, y = values[0:2]\n",
    "Cval = values[2]\n",
    "etaval = values[3:]"
   ]
  },
  {
   "cell_type": "code",
   "execution_count": null,
   "metadata": {
    "collapsed": false
   },
   "outputs": [],
   "source": [
    "C.value = Cval\n",
    "for etai, etavali in zip(eta, etaval):\n",
    "    etai.value = etavali"
   ]
  },
  {
   "cell_type": "code",
   "execution_count": null,
   "metadata": {
    "collapsed": true
   },
   "outputs": [],
   "source": [
    "fp.MatplotlibViewer(vars=C).plot()"
   ]
  },
  {
   "cell_type": "code",
   "execution_count": null,
   "metadata": {
    "collapsed": true
   },
   "outputs": [],
   "source": [
    "dt = 0.01\n",
    "elapsed = 4.0 # 0.\n",
    "saved = elapsed\n",
    "duration = 10.\n",
    "step = 400 # 0"
   ]
  },
  {
   "cell_type": "code",
   "execution_count": null,
   "metadata": {
    "collapsed": true
   },
   "outputs": [],
   "source": [
    "fp.tools.dump.write(mesh, filename=\"mesh.dmp\")"
   ]
  },
  {
   "cell_type": "code",
   "execution_count": null,
   "metadata": {
    "collapsed": true
   },
   "outputs": [],
   "source": [
    "fp.TSVViewer(vars=[C] + eta).plot(filename=\"{step}.gz\".format(step=0))"
   ]
  },
  {
   "cell_type": "code",
   "execution_count": null,
   "metadata": {
    "collapsed": true
   },
   "outputs": [],
   "source": [
    "with open(\"stats.txt\", 'w') as stats:\n",
    "    stats.write(\"\\t\".join([\"step\", \"t\", \"dt\", \"Cmin\", \"Cmax\", \"f\"]) + \"\\n\")"
   ]
  },
  {
   "cell_type": "code",
   "execution_count": null,
   "metadata": {
    "collapsed": false
   },
   "outputs": [],
   "source": [
    "viewerC = fp.MatplotlibViewer(vars=C)"
   ]
  },
  {
   "cell_type": "code",
   "execution_count": null,
   "metadata": {
    "collapsed": false
   },
   "outputs": [],
   "source": [
    "eta = [fp.CellVariable(mesh=mesh, name=r\"$\\eta_{i}$\".format(i=i+1), hasOld=True) for i in range(10)]\n",
    "while elapsed < duration:\n",
    "    C.updateOld()\n",
    "    for etai in eta:\n",
    "        etai.updateOld()\n",
    "    for sweep in range(2):\n",
    "#        res = eq.sweep(dt=dt)\n",
    "        res = [eqC.sweep(C, dt=dt)] #, solver=fp.LinearLUSolver())\n",
    "        res = res + [eq_etai.sweep(etai, dt=dt) for (eq_etai, etai) in zip(eq_eta, eta)]\n",
    "        print 'elapsed: ', elapsed\n",
    "    if max(res) < 0.1:\n",
    "        step += 1\n",
    "        elapsed += dt\n",
    "        dt *= 1.1\n",
    "        \n",
    "        viewer.plot()\n",
    "        if elapsed - saved > 0.1:\n",
    "            fp.TSVViewer(vars=[C] + eta).plot(filename=\"{step}.gz\".format(step=step))\n",
    "            viewer.plot()\n",
    "            saved = elapsed\n",
    "            \n",
    "        with open(\"stats.txt\", 'a') as stats:\n",
    "            stats.write(\"\\t\".join([str(it) for it in [step, elapsed, dt, min(C), max(C), \n",
    "                                                      f.cellVolumeAverage * mesh.cellVolumes.sum()]]) + \"\\n\")\n",
    "            \n",
    "    else:\n",
    "        dt *= 0.8\n",
    "        C.value = C.old.value\n",
    "    print 'dt: ', dt"
   ]
  },
  {
   "cell_type": "code",
   "execution_count": null,
   "metadata": {
    "collapsed": true
   },
   "outputs": [],
   "source": [
    "etas_sympy = sympy.symbols()"
   ]
  },
  {
   "cell_type": "code",
   "execution_count": 20,
   "metadata": {
    "collapsed": false
   },
   "outputs": [],
   "source": [
    "eta_string = \" \".join(['eta_{0}'.format(i) for i in range(10)])"
   ]
  },
  {
   "cell_type": "code",
   "execution_count": 22,
   "metadata": {
    "collapsed": false
   },
   "outputs": [],
   "source": [
    "my_etas = sympy.symbols(eta_string)"
   ]
  },
  {
   "cell_type": "code",
   "execution_count": null,
   "metadata": {
    "collapsed": true
   },
   "outputs": [],
   "source": [
    "my_etas[0]"
   ]
  },
  {
   "cell_type": "code",
   "execution_count": 23,
   "metadata": {
    "collapsed": true
   },
   "outputs": [],
   "source": [
    "for i in range(10):\n",
    "    exec \"eta_{0} = 'test_{0}'\".format(i)"
   ]
  },
  {
   "cell_type": "code",
   "execution_count": 24,
   "metadata": {
    "collapsed": false,
    "scrolled": true
   },
   "outputs": [
    {
     "name": "stdout",
     "output_type": "stream",
     "text": [
      "test_0\n"
     ]
    }
   ],
   "source": [
    "print eta_0"
   ]
  },
  {
   "cell_type": "code",
   "execution_count": null,
   "metadata": {
    "collapsed": true
   },
   "outputs": [],
   "source": []
  }
 ],
 "metadata": {
  "kernelspec": {
   "display_name": "Python 2",
   "language": "python",
   "name": "python2"
  },
  "language_info": {
   "codemirror_mode": {
    "name": "ipython",
    "version": 2
   },
   "file_extension": ".py",
   "mimetype": "text/x-python",
   "name": "python",
   "nbconvert_exporter": "python",
   "pygments_lexer": "ipython2",
   "version": "2.7.11"
  }
 },
 "nbformat": 4,
 "nbformat_minor": 0
}
