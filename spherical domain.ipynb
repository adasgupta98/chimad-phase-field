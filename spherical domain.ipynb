{
 "cells": [
  {
   "cell_type": "markdown",
   "metadata": {},
   "source": [
    "## Problem 1a: \n",
    "## Periodic spinodal decomposition on a spherical domain\n",
    "## (new equation for f_chem)"
   ]
  },
  {
   "cell_type": "markdown",
   "metadata": {},
   "source": [
    "Necessary imports for graphing and PDE solving:"
   ]
  },
  {
   "cell_type": "code",
   "execution_count": 1,
   "metadata": {
    "collapsed": true
   },
   "outputs": [],
   "source": [
    "%matplotlib inline\n",
    "import fipy as fp\n",
    "import numpy as np\n",
    "import matplotlib.pyplot as plt"
   ]
  },
  {
   "cell_type": "markdown",
   "metadata": {},
   "source": [
    "For this problem, we choose $f_{chem}$ or $f_0$ to have the simple polynomial form, $$ f_0  = \\varrho_s(c-c_{\\alpha})^2(c_{\\beta}-c)^2.$$ Constants are defined below.\n",
    "We start by calculating $f_{0var}=\\frac{\\partial^2 f_0}{\\partial t^2}$ using sympy:"
   ]
  },
  {
   "cell_type": "code",
   "execution_count": 2,
   "metadata": {
    "collapsed": false
   },
   "outputs": [
    {
     "name": "stdout",
     "output_type": "stream",
     "text": [
      "2*rho_s*((c_alpha - c_var)**2 + 4*(c_alpha - c_var)*(c_beta - c_var) + (c_beta - c_var)**2)\n"
     ]
    }
   ],
   "source": [
    "import sympy\n",
    "A, c, c_m, B, c_alpha, c_beta, rho_s = sympy.symbols(\"A c_var c_m B c_alpha c_beta rho_s\")\n",
    "f_0 = rho_s*((c - c_alpha)**2)*((c_beta-c)**2)\n",
    "\n",
    "print sympy.diff(f_0, c, 2)"
   ]
  },
  {
   "cell_type": "markdown",
   "metadata": {},
   "source": [
    "The square domain of the problem has dimensions 20 units by 20 units, with cells that are half a unit long on each side. A PeriodicGrid2D object is used because the domain's boundary conditions are periodic."
   ]
  },
  {
   "cell_type": "code",
   "execution_count": 18,
   "metadata": {
    "collapsed": true
   },
   "outputs": [],
   "source": [
    "?fp.Gmsh2D"
   ]
  },
  {
   "cell_type": "code",
   "execution_count": 21,
   "metadata": {
    "collapsed": false
   },
   "outputs": [
    {
     "name": "stderr",
     "output_type": "stream",
     "text": [
      "ERROR: An unexpected error occurred while tokenizing input\n",
      "The following traceback may be corrupted or invalid\n",
      "The error message is: ('EOF in multi-line string', (1, 26))\n",
      "\n"
     ]
    },
    {
     "ename": "EnvironmentError",
     "evalue": "Gmsh version must be >= 2.0.",
     "output_type": "error",
     "traceback": [
      "\u001b[1;31m---------------------------------------------------------------------------\u001b[0m",
      "\u001b[1;31mEnvironmentError\u001b[0m                          Traceback (most recent call last)",
      "\u001b[1;32m<ipython-input-21-63fc16f1d3ba>\u001b[0m in \u001b[0;36m<module>\u001b[1;34m()\u001b[0m\n\u001b[0;32m     26\u001b[0m                           \u001b[1;33m//\u001b[0m \u001b[0mcreate\u001b[0m \u001b[0mentire\u001b[0m \u001b[0minner\u001b[0m \u001b[1;32mand\u001b[0m \u001b[0mouter\u001b[0m \u001b[0mshell\u001b[0m\u001b[1;33m\u001b[0m\u001b[0m\n\u001b[0;32m     27\u001b[0m                           \u001b[0mSurface\u001b[0m \u001b[0mLoop\u001b[0m\u001b[1;33m(\u001b[0m\u001b[1;36m100\u001b[0m\u001b[1;33m)\u001b[0m\u001b[1;33m=\u001b[0m\u001b[1;33m{\u001b[0m\u001b[1;36m1\u001b[0m\u001b[1;33m,\u001b[0m \u001b[0mt1\u001b[0m\u001b[1;33m[\u001b[0m\u001b[1;36m0\u001b[0m\u001b[1;33m]\u001b[0m\u001b[1;33m,\u001b[0m\u001b[0mt2\u001b[0m\u001b[1;33m[\u001b[0m\u001b[1;36m0\u001b[0m\u001b[1;33m]\u001b[0m\u001b[1;33m,\u001b[0m\u001b[0mt3\u001b[0m\u001b[1;33m[\u001b[0m\u001b[1;36m0\u001b[0m\u001b[1;33m]\u001b[0m\u001b[1;33m,\u001b[0m\u001b[0mt7\u001b[0m\u001b[1;33m[\u001b[0m\u001b[1;36m0\u001b[0m\u001b[1;33m]\u001b[0m\u001b[1;33m,\u001b[0m\u001b[0mt4\u001b[0m\u001b[1;33m[\u001b[0m\u001b[1;36m0\u001b[0m\u001b[1;33m]\u001b[0m\u001b[1;33m,\u001b[0m\u001b[0mt5\u001b[0m\u001b[1;33m[\u001b[0m\u001b[1;36m0\u001b[0m\u001b[1;33m]\u001b[0m\u001b[1;33m,\u001b[0m\u001b[0mt6\u001b[0m\u001b[1;33m[\u001b[0m\u001b[1;36m0\u001b[0m\u001b[1;33m]\u001b[0m\u001b[1;33m}\u001b[0m\u001b[1;33m;\u001b[0m\u001b[1;33m\u001b[0m\u001b[0m\n\u001b[1;32m---> 28\u001b[1;33m                           ''', order=2.0).extrude(extrudeFunc=lambda r: 1.1*r)\n\u001b[0m\u001b[0;32m     29\u001b[0m \u001b[1;31m# phi = CellVariable(name =r\"$\\phi$\", mesh = mesh)\u001b[0m\u001b[1;33m\u001b[0m\u001b[1;33m\u001b[0m\u001b[0m\n",
      "\u001b[1;32m/users/and9/git/fipy/fipy/meshes/gmshMesh.pyc\u001b[0m in \u001b[0;36m__init__\u001b[1;34m(self, arg, communicator, order, background)\u001b[0m\n\u001b[0;32m   1854\u001b[0m                         \u001b[0mcommunicator\u001b[0m\u001b[1;33m=\u001b[0m\u001b[0mcommunicator\u001b[0m\u001b[1;33m,\u001b[0m\u001b[1;33m\u001b[0m\u001b[0m\n\u001b[0;32m   1855\u001b[0m                         \u001b[0morder\u001b[0m\u001b[1;33m=\u001b[0m\u001b[0morder\u001b[0m\u001b[1;33m,\u001b[0m\u001b[1;33m\u001b[0m\u001b[0m\n\u001b[1;32m-> 1856\u001b[1;33m                         background=background)\n\u001b[0m\u001b[0;32m   1857\u001b[0m \u001b[1;33m\u001b[0m\u001b[0m\n\u001b[0;32m   1858\u001b[0m     \u001b[1;32mdef\u001b[0m \u001b[0m_test\u001b[0m\u001b[1;33m(\u001b[0m\u001b[0mself\u001b[0m\u001b[1;33m)\u001b[0m\u001b[1;33m:\u001b[0m\u001b[1;33m\u001b[0m\u001b[0m\n",
      "\u001b[1;32m/users/and9/git/fipy/fipy/meshes/gmshMesh.pyc\u001b[0m in \u001b[0;36m__init__\u001b[1;34m(self, arg, coordDimensions, communicator, order, background)\u001b[0m\n\u001b[0;32m   1570\u001b[0m                                    \u001b[0morder\u001b[0m\u001b[1;33m=\u001b[0m\u001b[0morder\u001b[0m\u001b[1;33m,\u001b[0m\u001b[1;33m\u001b[0m\u001b[0m\n\u001b[0;32m   1571\u001b[0m                                    \u001b[0mmode\u001b[0m\u001b[1;33m=\u001b[0m\u001b[1;34m'r'\u001b[0m\u001b[1;33m,\u001b[0m\u001b[1;33m\u001b[0m\u001b[0m\n\u001b[1;32m-> 1572\u001b[1;33m                                    background=background)\n\u001b[0m\u001b[0;32m   1573\u001b[0m \u001b[1;33m\u001b[0m\u001b[0m\n\u001b[0;32m   1574\u001b[0m         (verts,\n",
      "\u001b[1;32m/users/and9/git/fipy/fipy/meshes/gmshMesh.pyc\u001b[0m in \u001b[0;36mopenMSHFile\u001b[1;34m(name, dimensions, coordDimensions, communicator, order, mode, background)\u001b[0m\n\u001b[0;32m    143\u001b[0m     \u001b[0mversion\u001b[0m \u001b[1;33m=\u001b[0m \u001b[0m_gmshVersion\u001b[0m\u001b[1;33m(\u001b[0m\u001b[0mcommunicator\u001b[0m\u001b[1;33m=\u001b[0m\u001b[0mcommunicator\u001b[0m\u001b[1;33m)\u001b[0m\u001b[1;33m\u001b[0m\u001b[0m\n\u001b[0;32m    144\u001b[0m     \u001b[1;32mif\u001b[0m \u001b[0mversion\u001b[0m \u001b[1;33m<\u001b[0m \u001b[0mStrictVersion\u001b[0m\u001b[1;33m(\u001b[0m\u001b[1;34m\"2.0\"\u001b[0m\u001b[1;33m)\u001b[0m\u001b[1;33m:\u001b[0m\u001b[1;33m\u001b[0m\u001b[0m\n\u001b[1;32m--> 145\u001b[1;33m         \u001b[1;32mraise\u001b[0m \u001b[0mEnvironmentError\u001b[0m\u001b[1;33m(\u001b[0m\u001b[1;34m\"Gmsh version must be >= 2.0.\"\u001b[0m\u001b[1;33m)\u001b[0m\u001b[1;33m\u001b[0m\u001b[0m\n\u001b[0m\u001b[0;32m    146\u001b[0m \u001b[1;33m\u001b[0m\u001b[0m\n\u001b[0;32m    147\u001b[0m     \u001b[1;31m# If we're being passed a .msh file, leave it be. Otherwise,\u001b[0m\u001b[1;33m\u001b[0m\u001b[1;33m\u001b[0m\u001b[0m\n",
      "\u001b[1;31mEnvironmentError\u001b[0m: Gmsh version must be >= 2.0."
     ]
    }
   ],
   "source": [
    "import fipy as fp\n",
    "mesh = fp.Gmsh2DIn3DSpace('''\n",
    "                          radius = 5.0;\n",
    "                          cellSize = .3;\n",
    "\n",
    "                          // create inner 1/8 shell\n",
    "                          Point(1) = {0, 0, 0, cellSize};\n",
    "                          Point(2) = {-radius, 0, 0, cellSize};\n",
    "                          Point(3) = {0, radius, 0, cellSize};\n",
    "                          Point(4) = {0, 0, radius, cellSize};\n",
    "                          Circle(1) = {2, 1, 3};\n",
    "                          Circle(2) = {4, 1, 2};\n",
    "                          Circle(3) = {4, 1, 3};\n",
    "                          Line Loop(1) = {1, -3, 2};\n",
    "                          Ruled Surface(1) = {1};\n",
    "\n",
    "                          // create remaining 7/8 inner shells\n",
    "                          t1[] = Rotate {{0,0,1},{0,0,0},Pi/2} {Duplicata{Surface{1};}};\n",
    "                          t2[] = Rotate {{0,0,1},{0,0,0},Pi} {Duplicata{Surface{1};}};\n",
    "                          t3[] = Rotate {{0,0,1},{0,0,0},Pi*3/2} {Duplicata{Surface{1};}};\n",
    "                          t4[] = Rotate {{0,1,0},{0,0,0},-Pi/2} {Duplicata{Surface{1};}};\n",
    "                          t5[] = Rotate {{0,0,1},{0,0,0},Pi/2} {Duplicata{Surface{t4[0]};}};\n",
    "                          t6[] = Rotate {{0,0,1},{0,0,0},Pi} {Duplicata{Surface{t4[0]};}};\n",
    "                          t7[] = Rotate {{0,0,1},{0,0,0},Pi*3/2} {Duplicata{Surface{t4[0]};}};\n",
    "\n",
    "                          // create entire inner and outer shell\n",
    "                          Surface Loop(100)={1, t1[0],t2[0],t3[0],t7[0],t4[0],t5[0],t6[0]};\n",
    "                          ''', order=2.0).extrude(extrudeFunc=lambda r: 1.1*r)\n",
    "# phi = CellVariable(name =r\"$\\phi$\", mesh = mesh)"
   ]
  },
  {
   "cell_type": "markdown",
   "metadata": {},
   "source": [
    "Constants and initial conditions:\n",
    "$c_{\\alpha}, c_{\\beta},$ and $c_m = \\frac{(c_{\\alpha} + c_{\\beta})}{2}$ are concentrations at which the bulk free energy has minima.\n",
    "$\\kappa$ is the gradient energy coefficient.\n",
    "$\\varrho_s$ controls the height of the double-well barrier."
   ]
  },
  {
   "cell_type": "code",
   "execution_count": 102,
   "metadata": {
    "collapsed": true
   },
   "outputs": [],
   "source": [
    "c_alpha = 0.30\n",
    "c_beta = 0.70\n",
    "c_m = (c_alpha + c_beta) / 2.\n",
    "kappa = 2.0\n",
    "rho_s = 5.0\n",
    "M = 5.0\n",
    "# initial conditions\n",
    "c_0 = 0.45\n",
    "q = np.sqrt((2., 3.))\n",
    "epsilon = 0.01"
   ]
  },
  {
   "cell_type": "markdown",
   "metadata": {},
   "source": [
    "$c_{var}$ is a cell variable specifying concentrations at various points in the mesh. Here, it is the solution variable:\n",
    "\n",
    "$c_{var}\\left(\\vec{r}, t\\right)$ such that\n",
    "\n",
    "$$ c_{var}\\left(\\vec{r}, 0\\right) = \\bar{c}_0 + \\epsilon \\cos \\left( \\vec{q} \\cdot \\vec{r} \\right) $$"
   ]
  },
  {
   "cell_type": "code",
   "execution_count": 103,
   "metadata": {
    "collapsed": false
   },
   "outputs": [],
   "source": [
    "# array of sample c-values: used in f versus c plot\n",
    "vals = np.linspace(-.1, 1.1, 1000)\n",
    "\n",
    "c_var = fp.CellVariable(mesh=mesh, name=r\"$c$\", hasOld=True)\n",
    "r = np.array((mesh.x, mesh.y))\n",
    "c_var[:] = c_0 + epsilon * np.cos((q[:, None] * r).sum(0))\n",
    "# viewer = fp.Viewer(c_var, limits = {'ymin': 0, 'ymax': 20},\n",
    "#                     datamin=.440, datamax =.460,\n",
    "#                     title = \"Matplot2DViewer test\")"
   ]
  },
  {
   "cell_type": "markdown",
   "metadata": {},
   "source": [
    "The equation for the bulk free energy density (alternatively called the chemical free energy density) of this system is expressed as \n",
    "$$ \\int\\limits_V{\\!\\Big(f_{chem}+\\frac{\\kappa}{2}{\\big|\\nabla c\\big|}^2}\\Big)\\,\\mathrm{d}V.$$ "
   ]
  },
  {
   "cell_type": "code",
   "execution_count": 104,
   "metadata": {
    "collapsed": false
   },
   "outputs": [
    {
     "name": "stdout",
     "output_type": "stream",
     "text": [
      "[[ 0.00681567 -0.00414833 -0.00600562 ...,  0.0057663   0.00389589\n",
      "  -0.00762501]\n",
      " [ 0.00686661  0.00865793  0.01027639 ..., -0.01007364 -0.00843041\n",
      "  -0.00661885]]\n"
     ]
    }
   ],
   "source": [
    "(np.array(c_var))\n",
    "print(c_var.grad)\n"
   ]
  },
  {
   "cell_type": "code",
   "execution_count": 105,
   "metadata": {
    "collapsed": false
   },
   "outputs": [],
   "source": [
    "# import sympy\n",
    "# import fipy as fp\n",
    "# import numpy as np\n",
    "# A, c, c_m, B, c_alpha, c_beta, rho_s = sympy.symbols(\"A c_var c_m B c_alpha c_beta rho_s\")\n",
    "# f_0 = rho_s*((c - c_alpha)**2)*((c_beta-c)**2)\n",
    "# # def f_0(c):rho_s*((c - c_alpha)**2)*((c_beta-c)**2)\n",
    "# #     return rho_s*((c - c_alpha)**2)*((c_beta-c)**2)\n",
    "\n",
    "# print sympy.diff(f_0, c, 2)\n",
    "# # def f_0_var(c_var):\n",
    "    \n",
    "# #     return -A + 3*B*(c_var - c_m)**2 + 3*c_alpha*(c_var - c_alpha)**2 + 3*c_beta*(c_var - c_beta)**2"
   ]
  },
  {
   "cell_type": "code",
   "execution_count": 106,
   "metadata": {
    "collapsed": false
   },
   "outputs": [],
   "source": [
    "# bulk free energy density\n",
    "def f_0(c):\n",
    "    return rho_s*((c - c_alpha)**2)*((c_beta-c)**2)\n",
    "def f_0_var(c_var):\n",
    "    return 2*rho_s*((c_alpha - c_var)**2 + 4*(c_alpha - c_var)*(c_beta - c_var) + (c_beta - c_var)**2)\n",
    "# free energy\n",
    "def f(c):\n",
    "    return (f_0(c)+ .5*kappa*(c.grad.mag)**2)\n",
    "\n",
    "# plot free energy density versus c\n",
    "def plotf_c():\n",
    "    plt.figure(1)\n",
    "    plt.xlabel('c')\n",
    "    plt.ylabel('f_0')\n",
    "    plt.plot(vals, f_0(vals))\n",
    "    plt.show()"
   ]
  },
  {
   "cell_type": "markdown",
   "metadata": {},
   "source": [
    "Here, the elapsed time and total free energy at each time step are saved to separate lists. These lists are then updated in a text file."
   ]
  },
  {
   "cell_type": "code",
   "execution_count": 107,
   "metadata": {
    "collapsed": true
   },
   "outputs": [],
   "source": [
    "# save elapsed time and free energy at each data point\n",
    "f_data = []\n",
    "time_data = []\n",
    "\n",
    "def save_data(f, time):\n",
    "    f_data.append(f.value)\n",
    "    time_data.append(time)\n",
    "    np.savetxt('1a_new_free_energy.txt', zip(time_data, f_data))"
   ]
  },
  {
   "cell_type": "markdown",
   "metadata": {},
   "source": [
    "The solver equation is now defined."
   ]
  },
  {
   "cell_type": "code",
   "execution_count": 108,
   "metadata": {
    "collapsed": false
   },
   "outputs": [],
   "source": [
    "# start solver\n",
    "eqn = fp.TransientTerm(coeff=1.) == fp.DiffusionTerm(M * f_0_var(c_var)) - fp.DiffusionTerm((M, kappa))"
   ]
  },
  {
   "cell_type": "markdown",
   "metadata": {},
   "source": [
    "A time stepping scheme is used to solve the equation. If the residual increases, the solver backtracks; if the specified tolerance is not reached, the time step is recalculated."
   ]
  },
  {
   "cell_type": "code",
   "execution_count": 109,
   "metadata": {
    "collapsed": true
   },
   "outputs": [],
   "source": [
    "elapsed = 0.0\n",
    "steps = 0\n",
    "dt = 0.01\n",
    "total_sweeps = 2\n",
    "tolerance = 1e-1\n",
    "total_steps = 1000"
   ]
  },
  {
   "cell_type": "code",
   "execution_count": 110,
   "metadata": {
    "collapsed": true
   },
   "outputs": [],
   "source": [
    "c_var.updateOld()\n",
    "from fipy.solvers.pysparse import LinearLUSolver as Solver\n",
    "solver = Solver()"
   ]
  },
  {
   "cell_type": "markdown",
   "metadata": {},
   "source": [
    "Initialize an empty list for generated viewers:"
   ]
  },
  {
   "cell_type": "code",
   "execution_count": null,
   "metadata": {
    "collapsed": true
   },
   "outputs": [],
   "source": [
    "viewers = []"
   ]
  },
  {
   "cell_type": "code",
   "execution_count": null,
   "metadata": {
    "collapsed": false
   },
   "outputs": [],
   "source": [
    "while steps < total_steps:\n",
    "    res0 = eqn.sweep(c_var, dt=dt, solver=solver)\n",
    "            \n",
    "    for sweeps in range(total_sweeps):\n",
    "        res = eqn.sweep(c_var, dt=dt, solver=solver)\n",
    "        \n",
    "#         print 'steps',steps\n",
    "#         print 'res',res\n",
    "#         print 'sweeps',sweeps\n",
    "#         print 'dt',dt\n",
    "        \n",
    "    if res < res0 * tolerance:\n",
    "        steps += 1\n",
    "        elapsed += dt\n",
    "        dt *= 1.1\n",
    "        \n",
    "# create 10 viewers to snapshot steps in the simulation\n",
    "        if (steps%(total_steps/10)==0):\n",
    "            print steps\n",
    "            print elapsed\n",
    "            # record the volume integral of the free energy \n",
    "            save_data(f_0_var(c_var).cellVolumeAverage*mesh.numberOfCells, elapsed)\n",
    "            # pickle the data on c as a function of space at this particular time\n",
    "            fp.dump.write({'time' : steps, 'var': c_var}, '{0}{1}{2}'.format(\"1a_new\", steps, \".pkl\"))\n",
    "            # create a viewer based on the pickled data\n",
    "            viewers.append(fp.Viewer((fp.dump.read('{0}{1}{2}'.format(\"1a_new\", steps, \".pkl\"))['var']),\n",
    "                        limits = {'ymin': 0.0, 'ymax': 4.0},\n",
    "                        datamin=.448, datamax =.455,\n",
    "                        title = '{0}{1}'.format(\"Time Step \", steps)))\n",
    "        \n",
    "        c_var.updateOld()\n",
    "    else:\n",
    "        dt *= 0.8\n",
    "        c_var[:] = c_var.old"
   ]
  },
  {
   "cell_type": "code",
   "execution_count": 54,
   "metadata": {
    "collapsed": false
   },
   "outputs": [
    {
     "data": {
      "image/png": "[encoded data removed]"
     },
     "metadata": {},
     "output_type": "display_data"
    },
    {
     "data": {
      "text/plain": [
       "<matplotlib.figure.Figure at 0x7f538760f790>"
      ]
     },
     "metadata": {},
     "output_type": "display_data"
    },
    {
     "data": {
      "text/plain": [
       "<matplotlib.figure.Figure at 0x7f538bbe2b90>"
      ]
     },
     "metadata": {},
     "output_type": "display_data"
    },
    {
     "data": {
      "text/plain": [
       "<matplotlib.figure.Figure at 0x7f538b5e6350>"
      ]
     },
     "metadata": {},
     "output_type": "display_data"
    },
    {
     "data": {
      "text/plain": [
       "<matplotlib.figure.Figure at 0x7f5385cfc510>"
      ]
     },
     "metadata": {},
     "output_type": "display_data"
    },
    {
     "data": {
      "text/plain": [
       "<matplotlib.figure.Figure at 0x7f5386529f90>"
      ]
     },
     "metadata": {},
     "output_type": "display_data"
    },
    {
     "data": {
      "text/plain": [
       "<matplotlib.figure.Figure at 0x7f5385b02e10>"
      ]
     },
     "metadata": {},
     "output_type": "display_data"
    },
    {
     "data": {
      "text/plain": [
       "<matplotlib.figure.Figure at 0x7f5387bc7dd0>"
      ]
     },
     "metadata": {},
     "output_type": "display_data"
    },
    {
     "data": {
      "text/plain": [
       "<matplotlib.figure.Figure at 0x7f53878ed6d0>"
      ]
     },
     "metadata": {},
     "output_type": "display_data"
    },
    {
     "data": {
      "text/plain": [
       "<matplotlib.figure.Figure at 0x7f538b80cfd0>"
      ]
     },
     "metadata": {},
     "output_type": "display_data"
    },
    {
     "data": {
      "text/plain": [
       "<matplotlib.figure.Figure at 0x7f5385a91fd0>"
      ]
     },
     "metadata": {},
     "output_type": "display_data"
    }
   ],
   "source": [
    "fp.MultiViewer(viewers).plot()"
   ]
  },
  {
   "cell_type": "code",
   "execution_count": 16,
   "metadata": {
    "collapsed": true
   },
   "outputs": [],
   "source": [
    "?fp.dump.write\n"
   ]
  },
  {
   "cell_type": "code",
   "execution_count": 17,
   "metadata": {
    "collapsed": false
   },
   "outputs": [
    {
     "data": {
      "image/png": "[encoded data removed]",
      "text/plain": [
       "<matplotlib.figure.Figure at 0x7f538784b5d0>"
      ]
     },
     "metadata": {},
     "output_type": "display_data"
    }
   ],
   "source": [
    "plotf_c()"
   ]
  },
  {
   "cell_type": "code",
   "execution_count": 18,
   "metadata": {
    "collapsed": false
   },
   "outputs": [
    {
     "data": {
      "image/png": "[encoded data removed]",
      "text/plain": [
       "<matplotlib.figure.Figure at 0x7f538ba98cd0>"
      ]
     },
     "metadata": {},
     "output_type": "display_data"
    }
   ],
   "source": [
    "plt.figure(3)\n",
    "plt.xlabel('time t')\n",
    "plt.ylabel('volume integral of free energy')\n",
    "plt.plot(time_data, f_data)\n",
    "plt.show()"
   ]
  },
  {
   "cell_type": "code",
   "execution_count": null,
   "metadata": {
    "collapsed": true
   },
   "outputs": [],
   "source": []
  }
 ],
 "metadata": {
  "kernelspec": {
   "display_name": "Python 2",
   "language": "python",
   "name": "python2"
  },
  "language_info": {
   "codemirror_mode": {
    "name": "ipython",
    "version": 2
   },
   "file_extension": ".py",
   "mimetype": "text/x-python",
   "name": "python",
   "nbconvert_exporter": "python",
   "pygments_lexer": "ipython2",
   "version": "2.7.11"
  }
 },
 "nbformat": 4,
 "nbformat_minor": 0
}
