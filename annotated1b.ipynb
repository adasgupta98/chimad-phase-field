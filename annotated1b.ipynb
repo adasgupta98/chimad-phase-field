{
 "cells": [
  {
   "cell_type": "markdown",
   "metadata": {},
   "source": [
    "## Problem 1b: \n",
    "## Fixed flux spinodal decomposition on a square domain"
   ]
  },
  {
   "cell_type": "markdown",
   "metadata": {},
   "source": [
    "Necessary imports for graphing and PDE solving:"
   ]
  },
  {
   "cell_type": "code",
   "execution_count": 12,
   "metadata": {
    "collapsed": true
   },
   "outputs": [],
   "source": [
    "%matplotlib inline\n",
    "import fipy as fp\n",
    "import numpy as np\n",
    "import sympy\n",
    "import matplotlib.pyplot as plt"
   ]
  },
  {
   "cell_type": "markdown",
   "metadata": {},
   "source": [
    "The square domain of the problem has dimensions 20 units by 20 units, with cells that are half a unit long on each side. A Grid2D object is used because the domain's boundary conditions are fixed (no flux)."
   ]
  },
  {
   "cell_type": "code",
   "execution_count": 13,
   "metadata": {
    "collapsed": true
   },
   "outputs": [],
   "source": [
    "mesh = fp.Grid2D(nx=50, ny=50, dx=0.5, dy=0.5)"
   ]
  },
  {
   "cell_type": "markdown",
   "metadata": {},
   "source": [
    "Constants and initial conditions:\n",
    "$c_{\\alpha}, c_{\\beta},$ and $c_m = \\frac{(c_{\\alpha} + c_{\\beta})}{2}$ are concentrations at which the bulk free energy has minima.\n",
    "$\\kappa$ is the gradient energy coefficient."
   ]
  },
  {
   "cell_type": "code",
   "execution_count": 14,
   "metadata": {
    "collapsed": true
   },
   "outputs": [],
   "source": [
    "c_alpha = 0.05\n",
    "c_beta = 0.95\n",
    "c_m = (c_alpha + c_beta) / 2.\n",
    "# control on height of double-well barrier\n",
    "A = 2.0\n",
    "kappa = 2.0\n",
    "\n",
    "B = A / (c_alpha - c_m)**2\n",
    "D = D_alpha = D_beta = 2. / (c_beta - c_alpha)\n",
    "\n",
    "# initial conditions\n",
    "c_0 = 0.45\n",
    "q = np.sqrt((2., 3.))\n",
    "epsilon = 0.01"
   ]
  },
  {
   "cell_type": "markdown",
   "metadata": {},
   "source": [
    "$c_{var}$ is a cell variable specifying concentrations at various points in the mesh. Here, it is the solution variable:\n",
    "\n",
    "$c_{var}\\left(\\vec{r}, t\\right)$ such that\n",
    "\n",
    "$$ c_{var}\\left(\\vec{r}, 0\\right) = \\bar{c}_0 + \\epsilon \\cos \\left( \\vec{q} \\cdot \\vec{r} \\right) $$"
   ]
  },
  {
   "cell_type": "code",
   "execution_count": 15,
   "metadata": {
    "collapsed": true
   },
   "outputs": [],
   "source": [
    "# array of sample c-values: used in f versus c plot\n",
    "vals = np.linspace(-.1, 1.1, 1000)\n",
    "\n",
    "# setting up the concentration field\n",
    "c_var = fp.CellVariable(mesh=mesh, name=r\"$c$\", hasOld=True)\n",
    "r = np.array((mesh.x, mesh.y))\n",
    "c_var[:] = c_0 + epsilon * np.cos((q[:, None] * r).sum(0))\n",
    "\n",
    "# viewer = fp.Viewer(c_var, limits = {'ymin': 0, 'ymax': 20},\n",
    "#                     datamin=.440, datamax =.460,\n",
    "#                     title = \"Matplot2DViewer test\")"
   ]
  },
  {
   "cell_type": "markdown",
   "metadata": {},
   "source": [
    "The equation for the bulk free energy density (alternatively called the chemical free energy density) of this system is expressed as \n",
    "$$ \\int\\limits_V{\\!\\Big(f_{chem}+\\frac{\\kappa}{2}{\\big|\\nabla c\\big|}^2}\\Big)\\,\\mathrm{d}V.$$ Also, $f_{chem}$ or $f_0$ in this problem has a simple polynomial form, $$ f_0  = -\\frac{A}{2}(c-c_m)^2 +\\frac{B}{4}(c-c_m)^4 + \\frac{c_{\\alpha}}{4}(c-c_{\\alpha})^4 + \\frac{c_{\\beta}}{4}(c-c_{\\beta})^4.$$"
   ]
  },
  {
   "cell_type": "code",
   "execution_count": 16,
   "metadata": {
    "collapsed": false
   },
   "outputs": [],
   "source": [
    "# bulk free energy density\n",
    "def f_0(c):\n",
    "    return - A / 2 * (c - c_m)**2 + B / 4 * (c - c_m)**4+ c_alpha / 4 * (c - c_alpha)**4 + c_beta / 4 * (c - c_beta)**4\n",
    "def f_0_var(c_var):\n",
    "    return -A + 3*B*(c_var - c_m)**2 + 3*c_alpha*(c_var - c_alpha)**2 + 3*c_beta*(c_var - c_beta)**2\n",
    "    #return sympy.diff(f_0(c), c, 2)\n",
    "# free energy\n",
    "def f(c):\n",
    "    return (f_0(c)+ .5*kappa*(c.grad.mag)**2)\n",
    "\n",
    "# plot free energy density versus c\n",
    "def plotf_c():\n",
    "    plt.figure(1)\n",
    "    plt.xlabel('c')\n",
    "    plt.ylabel('f_0')\n",
    "    plt.plot(vals, f_0(vals))\n",
    "    plt.show()\n"
   ]
  },
  {
   "cell_type": "markdown",
   "metadata": {},
   "source": [
    "Here, the elapsed time and total free energy at each time step are saved to separate lists. These lists are then updated in a text file."
   ]
  },
  {
   "cell_type": "code",
   "execution_count": 17,
   "metadata": {
    "collapsed": true
   },
   "outputs": [],
   "source": [
    "# save elapsed time and free energy at each data point\n",
    "f_data = []\n",
    "time_data = []\n",
    "\n",
    "def save_data(f, time):\n",
    "    f_data.append(f.value)\n",
    "    time_data.append(time)\n",
    "    np.savetxt('1bfree_energy.txt', zip(time_data, f_data))"
   ]
  },
  {
   "cell_type": "markdown",
   "metadata": {},
   "source": [
    "The solver equation is now defined."
   ]
  },
  {
   "cell_type": "code",
   "execution_count": 18,
   "metadata": {
    "collapsed": false
   },
   "outputs": [],
   "source": [
    "# start solver\n",
    "eqn = fp.TransientTerm(coeff=1.) == fp.DiffusionTerm(D * f_0_var(c_var)) - fp.DiffusionTerm((D, kappa))"
   ]
  },
  {
   "cell_type": "markdown",
   "metadata": {},
   "source": [
    "A time stepping scheme is used to solve the equation. If the residual increases, the solver backtracks; if the specified tolerance is not reached, the time step is recalculated."
   ]
  },
  {
   "cell_type": "code",
   "execution_count": 19,
   "metadata": {
    "collapsed": true
   },
   "outputs": [],
   "source": [
    "elapsed = 0.0\n",
    "steps = 0\n",
    "dt = 0.01\n",
    "total_sweeps = 2\n",
    "tolerance = 1e-1\n",
    "total_steps = 2000"
   ]
  },
  {
   "cell_type": "code",
   "execution_count": 20,
   "metadata": {
    "collapsed": true
   },
   "outputs": [],
   "source": [
    "c_var.updateOld()\n",
    "from fipy.solvers.pysparse import LinearLUSolver as Solver\n",
    "solver = Solver()"
   ]
  },
  {
   "cell_type": "markdown",
   "metadata": {},
   "source": [
    "Initialize an empty list for generated viewers:"
   ]
  },
  {
   "cell_type": "code",
   "execution_count": 21,
   "metadata": {
    "collapsed": true
   },
   "outputs": [],
   "source": [
    "viewers = []"
   ]
  },
  {
   "cell_type": "code",
   "execution_count": 22,
   "metadata": {
    "collapsed": false
   },
   "outputs": [],
   "source": [
    "# viewers.append(fp.Viewer((fp.dump.read('{0}{1}{2}'.format(\"1b\", steps, \".pkl\"))['var']),\n",
    "#                         limits = {'ymin': 0.0, 'ymax': 20.0},\n",
    "#                         datamin=.2, datamax =.8,\n",
    "#                         title = '{0}{1}'.format(\"Time Step \", steps)))"
   ]
  },
  {
   "cell_type": "code",
   "execution_count": 23,
   "metadata": {
    "collapsed": false
   },
   "outputs": [
    {
     "name": "stdout",
     "output_type": "stream",
     "text": [
      "20\n",
      "0.572749994933\n",
      "40\n",
      "4.42592555682\n",
      "60\n",
      "16.5993580076\n",
      "80\n",
      "22.0906458956\n",
      "100\n",
      "26.0630126019\n",
      "120\n",
      "29.6856810577\n",
      "140\n",
      "33.0683938547\n",
      "160\n",
      "36.2256311833\n",
      "180\n",
      "39.3767763433\n",
      "200\n",
      "42.3526554334\n",
      "220\n",
      "45.2580692682\n",
      "240\n",
      "48.224252062\n",
      "260\n",
      "51.5362717525\n",
      "280\n",
      "55.1496416016\n",
      "300\n",
      "58.4488104529\n",
      "320\n",
      "62.1851814455\n",
      "340\n",
      "66.0310821724\n",
      "360\n",
      "69.7079043013\n",
      "380\n",
      "73.7336878071\n",
      "400\n",
      "76.5981976704\n",
      "420\n",
      "79.2405801752\n",
      "440\n",
      "81.8487603055\n",
      "460\n",
      "84.4532407345\n",
      "480\n",
      "87.0819955871\n",
      "500\n",
      "89.7363461712\n",
      "520\n",
      "92.3855749512\n",
      "540\n",
      "95.0015712471\n",
      "560\n",
      "97.6129500975\n",
      "580\n",
      "100.191058494\n",
      "600\n",
      "102.76505535\n",
      "620\n",
      "105.305734999\n",
      "640\n",
      "107.842810697\n",
      "660\n",
      "110.374990882\n",
      "680\n",
      "112.932168788\n",
      "700\n",
      "115.512834735\n",
      "720\n",
      "118.061128265\n",
      "740\n",
      "120.604923851\n",
      "760\n",
      "123.116310032\n",
      "780\n",
      "125.62369108\n",
      "800\n",
      "128.154918603\n",
      "820\n",
      "130.710310563\n",
      "840\n",
      "133.232626134\n",
      "860\n",
      "135.751363803\n",
      "880\n",
      "138.265241345\n",
      "900\n",
      "140.747584276\n",
      "920\n",
      "143.309597124\n",
      "940\n",
      "145.839471543\n",
      "960\n",
      "148.364880528\n",
      "980\n",
      "150.858114365\n",
      "1000\n",
      "153.347372018\n",
      "1020\n",
      "155.832324974\n",
      "1040\n",
      "158.369246516\n",
      "1060\n",
      "160.873330745\n",
      "1080\n",
      "163.373862932\n",
      "1100\n",
      "165.869570122\n",
      "1120\n",
      "168.333970635\n",
      "1140\n",
      "170.849587698\n",
      "1160\n",
      "173.361176139\n",
      "1180\n",
      "175.868331423\n",
      "1200\n",
      "178.343544121\n",
      "1220\n",
      "180.814809375\n",
      "1240\n",
      "183.254087156\n",
      "1260\n",
      "185.745020439\n",
      "1280\n",
      "188.231005102\n",
      "1300\n",
      "190.713463398\n",
      "1320\n",
      "193.191131572\n",
      "1340\n",
      "195.637719353\n",
      "1360\n",
      "198.07998871\n",
      "1380\n",
      "200.545934292\n",
      "1400\n",
      "203.034967813\n",
      "1420\n",
      "205.492289629\n",
      "1440\n",
      "207.945692534\n",
      "1460\n",
      "210.367339171\n",
      "1480\n",
      "212.785550705\n",
      "1500\n",
      "215.226300589\n",
      "1520\n",
      "217.690815632\n",
      "1540\n",
      "220.150575175\n",
      "1560\n",
      "222.579478977\n",
      "1580\n",
      "225.004095566\n",
      "1600\n",
      "227.39782116\n",
      "1620\n",
      "229.868863902\n",
      "1640\n",
      "232.308424152\n",
      "1660\n",
      "234.744093816\n",
      "1680\n",
      "237.148236748\n",
      "1700\n",
      "239.548969406\n",
      "1720\n",
      "241.999146464\n",
      "1740\n",
      "244.445847949\n",
      "1760\n",
      "246.887828306\n",
      "1780\n",
      "249.299175947\n",
      "1800\n",
      "251.706267365\n",
      "1820\n",
      "254.136693981\n",
      "1840\n",
      "256.589875982\n",
      "1860\n",
      "259.011803047\n",
      "1880\n",
      "261.429867648\n",
      "1900\n",
      "263.816633392\n",
      "1920\n",
      "266.253942614\n",
      "1940\n",
      "268.686409748\n",
      "1960\n",
      "271.115426431\n",
      "1980\n",
      "273.53975611\n",
      "2000\n",
      "275.933674488\n"
     ]
    }
   ],
   "source": [
    "while steps < total_steps:\n",
    "    res0 = eqn.sweep(c_var, dt=dt, solver=solver)\n",
    "\n",
    "    for sweeps in range(total_sweeps):\n",
    "        res = eqn.sweep(c_var, dt=dt, solver=solver)\n",
    "\n",
    "#         print ' '\n",
    "#         print 'steps',steps\n",
    "#         print 'res',res\n",
    "#         print 'sweeps',sweeps\n",
    "#         print 'dt',dt\n",
    "\n",
    "\n",
    "    if res < res0 * tolerance:\n",
    "        steps += 1\n",
    "        elapsed += dt\n",
    "        dt *= 1.1\n",
    "        \n",
    "        if (steps%(total_steps/100)==0):\n",
    "            print steps\n",
    "            print elapsed\n",
    "            # record the volume integral of the free energy \n",
    "            save_data(f(c_var).cellVolumeAverage*mesh.numberOfCells, elapsed)\n",
    "            # pickle the data on c as a function of space at this particular time\n",
    "            fp.dump.write({'time' : elapsed, 'var': c_var}, '1bpickles/{0}.pkl'.format(\"1b\", steps, \".pkl\"))\n",
    "            # create a viewer based on the pickled data\n",
    "            \n",
    "        c_var.updateOld()\n",
    "    else:\n",
    "        dt *= 0.8\n",
    "        c_var[:] = c_var.old"
   ]
  },
  {
   "cell_type": "code",
   "execution_count": 24,
   "metadata": {
    "collapsed": false
   },
   "outputs": [],
   "source": [
    "fp.MultiViewer(viewers).plot()"
   ]
  },
  {
   "cell_type": "code",
   "execution_count": 25,
   "metadata": {
    "collapsed": false
   },
   "outputs": [
    {
     "data": {
      "image/png": "[encoded data removed]",
      "text/plain": [
       "<matplotlib.figure.Figure at 0x7fa8925fd790>"
      ]
     },
     "metadata": {},
     "output_type": "display_data"
    },
    {
     "data": {
      "image/png": "[encoded data removed]",
      "text/plain": [
       "<matplotlib.figure.Figure at 0x7fa88e857510>"
      ]
     },
     "metadata": {},
     "output_type": "display_data"
    }
   ],
   "source": [
    "plotf_c()\n",
    "\n",
    "plt.figure(3)\n",
    "plt.xlabel('time t')\n",
    "plt.ylabel('volume integral of f_var_0')\n",
    "plt.plot(time_data, f_data)\n",
    "plt.show()"
   ]
  },
  {
   "cell_type": "code",
   "execution_count": null,
   "metadata": {
    "collapsed": false
   },
   "outputs": [],
   "source": [
    "print time_data"
   ]
  },
  {
   "cell_type": "code",
   "execution_count": null,
   "metadata": {
    "collapsed": true
   },
   "outputs": [],
   "source": []
  }
 ],
 "metadata": {
  "kernelspec": {
   "display_name": "Python 2",
   "language": "python",
   "name": "python2"
  },
  "language_info": {
   "codemirror_mode": {
    "name": "ipython",
    "version": 2
   },
   "file_extension": ".py",
   "mimetype": "text/x-python",
   "name": "python",
   "nbconvert_exporter": "python",
   "pygments_lexer": "ipython2",
   "version": "2.7.11"
  }
 },
 "nbformat": 4,
 "nbformat_minor": 0
}
