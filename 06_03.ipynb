{
 "cells": [
  {
   "cell_type": "code",
   "execution_count": 12,
   "metadata": {
    "collapsed": false
   },
   "outputs": [],
   "source": [
    "%matplotlib inline\n",
    "import fipy as fp\n",
    "import numpy as np\n",
    "import matplotlib.pyplot as plt\n",
    "import scipy.integrate as integrate\n",
    "\n",
    "mesh = fp.PeriodicGrid2D(nx=40, ny=40, dx=0.5, dy=0.5)\n",
    "\n",
    "\n",
    "c_alpha = 0.05\n",
    "c_beta = 0.95\n",
    "A = 2.0\n",
    "kappa = 2.0\n",
    "c_m = (c_alpha + c_beta) / 2.\n",
    "B = A / (c_alpha - c_m)**2\n",
    "D = D_alpha = D_beta = 2. / (c_beta - c_alpha)\n",
    "c_0 = 0.45\n",
    "q = np.sqrt((2., 3.))\n",
    "epsilon = 0.01\n",
    "vals = np.linspace(-.1, 1.1, 1000)\n",
    "\n",
    "c_var = fp.CellVariable(mesh=mesh, name=r\"$c$\", hasOld=True)\n",
    "\n",
    "r = np.array((mesh.x, mesh.y))\n",
    "\n",
    "c_var[:] = c_0 + epsilon * np.cos((q[:, None] * r).sum(0))\n",
    "\n",
    "def f_0(c):\n",
    "    return - A / 2 * (c - c_m)**2 + B / 4 * (c - c_m)**4 + c_alpha / 4 * (c - c_alpha)**4 + c_beta / 4 * (c - c_beta)**4\n",
    "def f_0_var(c_var):\n",
    "    return -A + 3*B*(c_var - c_m)**2 + 3*c_alpha*(c_var - c_alpha)**2 + 3*c_beta*(c_var - c_beta)**2\n",
    "\n",
    "def plotf_c():\n",
    "    plt.figure(1)\n",
    "    plt.xlabel('c')\n",
    "    plt.ylabel('f_0')\n",
    "    plt.plot(vals, f_0(vals))\n",
    "    plt.show()\n",
    "    \n",
    "def plotf_var_c():\n",
    "    plt.figure(2)\n",
    "    plt.ylabel('f_0_var')\n",
    "    plt.plot(vals, f_0_var(vals))\n",
    "    plt.show()\n",
    "    \n",
    "#plotf_var_c()\n",
    "\n",
    "\n",
    "\n",
    "eqn = fp.TransientTerm(coeff=1.) == fp.DiffusionTerm(D * f_0_var(c_var)) - fp.DiffusionTerm((D, kappa))\n",
    "\n",
    "elapsed = 0.0\n",
    "steps = 0\n",
    "dt = 0.01\n",
    "total_sweeps = 2\n",
    "tolerance = 1e-1\n",
    "total_steps = 10\n",
    "time_vals = np.linspace(0, steps*dt, steps)\n",
    "\n",
    "c_var[:] = c_0 + epsilon * np.cos((q[:, None] * r).sum(0))\n",
    "\n",
    "c_var.updateOld()\n",
    "\n",
    "from fipy.solvers.pysparse import LinearLUSolver as Solver\n",
    "\n",
    "solver = Solver()\n",
    "\n",
    "f_list = []\n",
    "time_list = []\n",
    "\n",
    "def save_data(f, time):\n",
    "    f_list.append(f.value)\n",
    "    time_list.append(time)\n",
    "    np.savetxt('free_energy.txt', zip(time_list, f_list))\n",
    "    \n",
    "In [124]:\n",
    "\n",
    "\n",
    "    \n",
    "\n",
    "# viewer = fp.Viewer(c_var)\n",
    "while steps < total_steps:\n",
    "    res0 = eqn.sweep(c_var, dt=dt, solver=solver)\n",
    "\n",
    "    for sweeps in range(total_sweeps):\n",
    "        res = eqn.sweep(c_var, dt=dt, solver=solver)\n",
    "\n",
    "#         print 'steps',steps\n",
    "#         print 'res',res\n",
    "#         print 'sweeps',sweeps\n",
    "#         print 'dt',dt\n",
    "        \n",
    "\n",
    "    \n",
    "        \n",
    "    if res < res0 * tolerance:\n",
    "        steps += 1\n",
    "        elapsed += dt\n",
    "        dt *= 1.1\n",
    "        \n",
    "        save_data(f_0(c_var).cellVolumeAverage*mesh.numberOfCells, elapsed)\n",
    "        \n",
    "        \n",
    "        \n",
    "        c_var.updateOld()\n",
    "    else:\n",
    "        dt *= 0.8\n",
    "        c_var[:] = c_var.old\n",
    "\n"
   ]
  },
  {
   "cell_type": "code",
   "execution_count": 2,
   "metadata": {
    "collapsed": false
   },
   "outputs": [
    {
     "name": "stdout",
     "output_type": "stream",
     "text": [
      "3\n"
     ]
    }
   ],
   "source": [
    "def func(a,b):\n",
    "    return a+b\n",
    "\n",
    "print func(1,2)"
   ]
  },
  {
   "cell_type": "code",
   "execution_count": 3,
   "metadata": {
    "collapsed": false
   },
   "outputs": [
    {
     "name": "stdout",
     "output_type": "stream",
     "text": [
      "[3 5 7]\n"
     ]
    }
   ],
   "source": [
    "a = np.array([0,1,2])\n",
    "b = np.array([3,4,5])\n",
    "\n",
    "print func(a,b)"
   ]
  },
  {
   "cell_type": "code",
   "execution_count": 5,
   "metadata": {
    "collapsed": false
   },
   "outputs": [
    {
     "data": {
      "image/png": "[encoded data removed]",
      "text/plain": [
       "<matplotlib.figure.Figure at 0x7fbd6bd96350>"
      ]
     },
     "metadata": {},
     "output_type": "display_data"
    },
    {
     "data": {
      "image/png": "[encoded data removed]",
      "text/plain": [
       "<matplotlib.figure.Figure at 0x7fbd684d6150>"
      ]
     },
     "metadata": {},
     "output_type": "display_data"
    }
   ],
   "source": [
    "plotf_c()\n",
    "\n",
    "plt.figure(3)\n",
    "plt.xlabel('time t')\n",
    "plt.ylabel('volume integral of f_var_0')\n",
    "plt.plot(time_list, f_var_list)\n",
    "plt.show()"
   ]
  },
  {
   "cell_type": "code",
   "execution_count": 6,
   "metadata": {
    "collapsed": true
   },
   "outputs": [],
   "source": [
    "np.savetxt('myfile.txt', [1,2,3])"
   ]
  },
  {
   "cell_type": "code",
   "execution_count": 7,
   "metadata": {
    "collapsed": true
   },
   "outputs": [],
   "source": [
    "mylist = np.loadtxt('myfile.txt')"
   ]
  },
  {
   "cell_type": "code",
   "execution_count": 8,
   "metadata": {
    "collapsed": false
   },
   "outputs": [
    {
     "name": "stdout",
     "output_type": "stream",
     "text": [
      "[ 1.  2.  3.]\n"
     ]
    }
   ],
   "source": [
    "print mylist"
   ]
  },
  {
   "cell_type": "code",
   "execution_count": 9,
   "metadata": {
    "collapsed": false
   },
   "outputs": [
    {
     "name": "stdout",
     "output_type": "stream",
     "text": [
      "1.000000000000000000e+00\r\n",
      "2.000000000000000000e+00\r\n",
      "3.000000000000000000e+00\r\n"
     ]
    }
   ],
   "source": [
    "!more myfile.txt"
   ]
  },
  {
   "cell_type": "code",
   "execution_count": 10,
   "metadata": {
    "collapsed": false
   },
   "outputs": [
    {
     "data": {
      "text/plain": [
       "[(0, 3), (1, 4), (2, 5)]"
      ]
     },
     "execution_count": 10,
     "metadata": {},
     "output_type": "execute_result"
    }
   ],
   "source": [
    "zip(a,b)"
   ]
  },
  {
   "cell_type": "code",
   "execution_count": 13,
   "metadata": {
    "collapsed": true
   },
   "outputs": [],
   "source": [
    "energylist = np.loadtxt('free_energy.txt')"
   ]
  },
  {
   "cell_type": "code",
   "execution_count": 14,
   "metadata": {
    "collapsed": false
   },
   "outputs": [
    {
     "name": "stdout",
     "output_type": "stream",
     "text": [
      "1.000000000000000021e-02 2.027387893219743731e+01\r\n",
      "2.100000000000000130e-02 2.028283943843626247e+01\r\n",
      "3.310000000000000442e-02 2.028571297868668921e+01\r\n",
      "4.641000000000000680e-02 2.028675649350422105e+01\r\n",
      "6.105100000000000804e-02 2.028719224084894179e+01\r\n",
      "7.715610000000000523e-02 2.028740321140448088e+01\r\n",
      "9.487171000000001186e-02 2.028751997930469386e+01\r\n",
      "1.143588810000000233e-01 2.028759168265026958e+01\r\n",
      "1.357947691000000456e-01 2.028763904049626632e+01\r\n",
      "1.593742460100000535e-01 2.028767188732295779e+01\r\n"
     ]
    }
   ],
   "source": [
    "!more free_energy.txt"
   ]
  },
  {
   "cell_type": "code",
   "execution_count": 7,
   "metadata": {
    "collapsed": false
   },
   "outputs": [
    {
     "name": "stdout",
     "output_type": "stream",
     "text": [
      "[ 1.  2.  3.  4.  5.  6.  7.  8.  9.]\n",
      "[[ 1.    2.    1.    1.    2.    1.    1.    2.    1.  ]\n",
      " [ 0.75  0.75  0.75  1.5   1.5   1.5   0.75  0.75  0.75]]\n",
      "[ 1.25        2.13600094  1.25        1.80277564  2.5         1.80277564\n",
      "  1.25        2.13600094  1.25      ]\n",
      "[ 1.25        2.13600094  1.25        1.80277564  2.5         1.80277564\n",
      "  1.25        2.13600094  1.25      ]\n"
     ]
    }
   ],
   "source": [
    "import fipy as fp\n",
    "\n",
    "m = fp.Grid2D(nx=3, ny=3, dx=0.5, dy=2.0)\n",
    "v = fp.CellVariable(mesh=m)\n",
    "v[:] = [1, 2, 3, 4, 5, 6, 7, 8, 9]\n",
    "print v\n",
    "print v.grad\n",
    "print v.grad.mag\n",
    "print (v.grad[0]**2 + v.grad[1]**2)**0.5"
   ]
  },
  {
   "cell_type": "code",
   "execution_count": null,
   "metadata": {
    "collapsed": true
   },
   "outputs": [],
   "source": []
  }
 ],
 "metadata": {
  "kernelspec": {
   "display_name": "Python 2",
   "language": "python",
   "name": "python2"
  },
  "language_info": {
   "codemirror_mode": {
    "name": "ipython",
    "version": 2
   },
   "file_extension": ".py",
   "mimetype": "text/x-python",
   "name": "python",
   "nbconvert_exporter": "python",
   "pygments_lexer": "ipython2",
   "version": "2.7.11"
  }
 },
 "nbformat": 4,
 "nbformat_minor": 0
}
