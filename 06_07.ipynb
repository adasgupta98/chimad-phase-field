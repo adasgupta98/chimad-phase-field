{
 "cells": [
  {
   "cell_type": "markdown",
   "metadata": {},
   "source": [
    "## Problem 1a: \n",
    "## Periodic spinodal decomposition on a square domain"
   ]
  },
  {
   "cell_type": "markdown",
   "metadata": {},
   "source": [
    "Necessary imports for graphing and PDE solving:"
   ]
  },
  {
   "cell_type": "code",
   "execution_count": 1,
   "metadata": {
    "collapsed": true
   },
   "outputs": [],
   "source": [
    "%matplotlib inline\n",
    "import fipy as fp\n",
    "import numpy as np\n",
    "import matplotlib.pyplot as plt"
   ]
  },
  {
   "cell_type": "markdown",
   "metadata": {},
   "source": [
    "The square domain of the problem has dimensions 20 units by 20 units, with cells that are half a unit long on each side. A PeriodicGrid2D object is used because the domain's boundary conditions are periodic."
   ]
  },
  {
   "cell_type": "code",
   "execution_count": 2,
   "metadata": {
    "collapsed": true
   },
   "outputs": [],
   "source": [
    "mesh = fp.PeriodicGrid2D(nx=40, ny=40, dx=0.5, dy=0.5)"
   ]
  },
  {
   "cell_type": "markdown",
   "metadata": {},
   "source": [
    "Constants and initial conditions:\n",
    "$c_{\\alpha}, c_{\\beta},$ and $c_m = \\frac{(c_{\\alpha} + c_{\\beta})}{2}$ are concentrations at which the bulk free energy has minima.\n",
    "$\\kappa$ is the gradient energy coefficient."
   ]
  },
  {
   "cell_type": "code",
   "execution_count": 3,
   "metadata": {
    "collapsed": true
   },
   "outputs": [],
   "source": [
    "c_alpha = 0.05\n",
    "c_beta = 0.95\n",
    "c_m = (c_alpha + c_beta) / 2.\n",
    "# control on height of double-well barrier\n",
    "A = 2.0\n",
    "kappa = 2.0\n",
    "\n",
    "B = A / (c_alpha - c_m)**2\n",
    "D = D_alpha = D_beta = 2. / (c_beta - c_alpha)\n",
    "\n",
    "# initial conditions\n",
    "c_0 = 0.45\n",
    "q = np.sqrt((2., 3.))\n",
    "epsilon = 0.01"
   ]
  },
  {
   "cell_type": "markdown",
   "metadata": {},
   "source": [
    "$c_{var}$ is a cell variable specifying concentrations at various points in the mesh. Here, it is the solution variable:\n",
    "\n",
    "$c_{var}\\left(\\vec{r}, t\\right)$ such that\n",
    "\n",
    "$$ c_{var}\\left(\\vec{r}, 0\\right) = \\bar{c}_0 + \\epsilon \\cos \\left( \\vec{q} \\cdot \\vec{r} \\right) $$"
   ]
  },
  {
   "cell_type": "code",
   "execution_count": 4,
   "metadata": {
    "collapsed": false
   },
   "outputs": [],
   "source": [
    "# array of sample c-values: used in f versus c plot\n",
    "vals = np.linspace(-.1, 1.1, 1000)\n",
    "\n",
    "# setting up the concentration field\n",
    "c_var = fp.CellVariable(mesh=mesh, name=r\"$c$\", hasOld=True)\n",
    "r = np.array((mesh.x, mesh.y))\n",
    "c_var[:] = c_0 + epsilon * np.cos((q[:, None] * r).sum(0))\n",
    "# viewer = fp.Viewer(c_var, limits = {'ymin': 0, 'ymax': 20},\n",
    "#                     datamin=.440, datamax =.460,\n",
    "#                     title = \"Matplot2DViewer test\")"
   ]
  },
  {
   "cell_type": "markdown",
   "metadata": {},
   "source": [
    "The equation for the bulk free energy density (alternatively called the chemical free energy density) of this system is expressed as \n",
    "$$ \\int\\limits_V{\\!\\Big(f_{chem}+\\frac{\\kappa}{2}{\\big|\\nabla c\\big|}^2}\\Big)\\,\\mathrm{d}V.$$ Also, $f_{chem}$ or $f_0$ in this problem has a simple polynomial form, $$ f_0  = -\\frac{A}{2}(c-c_m)^2 +\\frac{B}{4}(c-c_m)^4 + \\frac{c_{\\alpha}}{4}(c-c_{\\alpha})^4 + \\frac{c_{\\beta}}{4}(c-c_{\\beta})^4.$$"
   ]
  },
  {
   "cell_type": "code",
   "execution_count": 5,
   "metadata": {
    "collapsed": false
   },
   "outputs": [],
   "source": [
    "# bulk free energy density\n",
    "def f_0(c):\n",
    "    return - A / 2 * (c - c_m)**2 + B / 4 * (c - c_m)**4+ c_alpha / 4 * (c - c_alpha)**4 + c_beta / 4 * (c - c_beta)**4\n",
    "# free energy\n",
    "def f(c):\n",
    "    return (f_0(c)+ .5*kappa*(c.grad.mag)**2)\n",
    "\n",
    "# plot free energy density versus c\n",
    "def plotf_c(c):\n",
    "    plt.figure(1)\n",
    "    plt.xlabel('c')\n",
    "    plt.ylabel('f_0')\n",
    "    plt.plot(vals, f(vals))\n",
    "    plt.show()"
   ]
  },
  {
   "cell_type": "markdown",
   "metadata": {},
   "source": [
    "Here, the elapsed time and total free energy at each time step are saved to separate lists. These lists are then updated in a text file."
   ]
  },
  {
   "cell_type": "code",
   "execution_count": 6,
   "metadata": {
    "collapsed": true
   },
   "outputs": [],
   "source": [
    "# save elapsed time and free energy at each data point\n",
    "f_data = []\n",
    "time_data = []\n",
    "\n",
    "def save_data(f, time):\n",
    "    f_data.append(f.value)\n",
    "    time_data.append(time)\n",
    "    np.savetxt('free_energy.txt', zip(time_data, f_data))"
   ]
  },
  {
   "cell_type": "markdown",
   "metadata": {},
   "source": [
    "The solver equation is now defined."
   ]
  },
  {
   "cell_type": "code",
   "execution_count": 7,
   "metadata": {
    "collapsed": true
   },
   "outputs": [],
   "source": [
    "# start solver\n",
    "eqn = fp.TransientTerm(coeff=1.) == fp.DiffusionTerm(D * f_0(c_var)) - fp.DiffusionTerm((D, kappa))"
   ]
  },
  {
   "cell_type": "markdown",
   "metadata": {},
   "source": [
    "A time stepping scheme is used to solve the equation. If the residual increases, the solver backtracks; if the specified tolerance is not reached, the time step is recalculated."
   ]
  },
  {
   "cell_type": "code",
   "execution_count": 17,
   "metadata": {
    "collapsed": true
   },
   "outputs": [],
   "source": [
    "elapsed = 0.0\n",
    "steps = 0\n",
    "dt = 0.01\n",
    "total_sweeps = 2\n",
    "tolerance = 1e-1\n",
    "total_steps = 200"
   ]
  },
  {
   "cell_type": "code",
   "execution_count": 18,
   "metadata": {
    "collapsed": true
   },
   "outputs": [],
   "source": [
    "c_var.updateOld()\n",
    "from fipy.solvers.pysparse import LinearLUSolver as Solver\n",
    "solver = Solver()"
   ]
  },
  {
   "cell_type": "markdown",
   "metadata": {},
   "source": [
    "Initialize an empty list for generated viewers:"
   ]
  },
  {
   "cell_type": "code",
   "execution_count": 19,
   "metadata": {
    "collapsed": true
   },
   "outputs": [],
   "source": [
    "viewers = []"
   ]
  },
  {
   "cell_type": "code",
   "execution_count": null,
   "metadata": {
    "collapsed": false
   },
   "outputs": [],
   "source": [
    "while steps < total_steps:\n",
    "    res0 = eqn.sweep(c_var, dt=dt, solver=solver)\n",
    "            \n",
    "    for sweeps in range(total_sweeps):\n",
    "        res = eqn.sweep(c_var, dt=dt, solver=solver)\n",
    "        \n",
    "#         print 'steps',steps\n",
    "#         print 'res',res\n",
    "#         print 'sweeps',sweeps\n",
    "#         print 'dt',dt\n",
    "        \n",
    "    if res < res0 * tolerance:\n",
    "        steps += 1\n",
    "        elapsed += dt\n",
    "        dt *= 1.1\n",
    "        \n",
    "# create 10 viewers to snapshot steps in the simulation\n",
    "        if steps%(total_steps/10)==0:\n",
    "            # record the volume integral of the free energy \n",
    "            save_data(f(c_var).cellVolumeAverage*mesh.numberOfCells, elapsed)\n",
    "            # pickle the data on c as a function of space at this particular time\n",
    "            fp.dump.write({'time' : elapsed, 'var': c_var}, '{0}{1}'.format(steps, \".pkl\"))\n",
    "            # create a viewer based on the pickled data\n",
    "            viewers.append(fp.Viewer((fp.dump.read('{0}{1}'.format(steps, \".pkl\"))['var']),\n",
    "                        limits = {'ymin': 0.0, 'ymax': 20.0},\n",
    "                        datamin=.440, datamax =.460,\n",
    "                        title = '{0}{1}{2}'.format(\"t = \", '%.3f'%(elapsed), \" s\")))\n",
    "        \n",
    "        c_var.updateOld()\n",
    "    else:\n",
    "        dt *= 0.8\n",
    "        c_var[:] = c_var.old"
   ]
  },
  {
   "cell_type": "code",
   "execution_count": 12,
   "metadata": {
    "collapsed": false
   },
   "outputs": [
    {
     "data": {
      "image/png": "[encoded data removed]"
     },
     "metadata": {},
     "output_type": "display_data"
    },
    {
     "data": {
      "text/plain": [
       "<matplotlib.figure.Figure at 0x7fe1f36a1290>"
      ]
     },
     "metadata": {},
     "output_type": "display_data"
    },
    {
     "data": {
      "text/plain": [
       "<matplotlib.figure.Figure at 0x7fe1f36a1190>"
      ]
     },
     "metadata": {},
     "output_type": "display_data"
    },
    {
     "data": {
      "text/plain": [
       "<matplotlib.figure.Figure at 0x7fe1f3038fd0>"
      ]
     },
     "metadata": {},
     "output_type": "display_data"
    },
    {
     "data": {
      "text/plain": [
       "<matplotlib.figure.Figure at 0x7fe1f2f83bd0>"
      ]
     },
     "metadata": {},
     "output_type": "display_data"
    },
    {
     "data": {
      "text/plain": [
       "<matplotlib.figure.Figure at 0x7fe1dbf38750>"
      ]
     },
     "metadata": {},
     "output_type": "display_data"
    },
    {
     "data": {
      "text/plain": [
       "<matplotlib.figure.Figure at 0x7fe1f2b2b590>"
      ]
     },
     "metadata": {},
     "output_type": "display_data"
    },
    {
     "data": {
      "text/plain": [
       "<matplotlib.figure.Figure at 0x7fe1f299b810>"
      ]
     },
     "metadata": {},
     "output_type": "display_data"
    },
    {
     "data": {
      "text/plain": [
       "<matplotlib.figure.Figure at 0x7fe1dc2cd810>"
      ]
     },
     "metadata": {},
     "output_type": "display_data"
    },
    {
     "data": {
      "text/plain": [
       "<matplotlib.figure.Figure at 0x7fe1db9af890>"
      ]
     },
     "metadata": {},
     "output_type": "display_data"
    },
    {
     "data": {
      "text/plain": [
       "<matplotlib.figure.Figure at 0x7fe1dbf51b90>"
      ]
     },
     "metadata": {},
     "output_type": "display_data"
    }
   ],
   "source": [
    "fp.MultiViewer(viewers).plot()"
   ]
  },
  {
   "cell_type": "code",
   "execution_count": 9,
   "metadata": {
    "collapsed": false
   },
   "outputs": [
    {
     "data": {
      "image/png": "[encoded data removed]",
      "text/plain": [
       "<matplotlib.figure.Figure at 0x7f75c598c990>"
      ]
     },
     "metadata": {},
     "output_type": "display_data"
    },
    {
     "data": {
      "image/png": "[encoded data removed]",
      "text/plain": [
       "<matplotlib.figure.Figure at 0x7f75c4ca1a50>"
      ]
     },
     "metadata": {},
     "output_type": "display_data"
    }
   ],
   "source": [
    "import fipy as fp\n",
    "viewer = fp.Viewer(fp.dump.read('2.pkl')['var'])\n",
    "viewer = fp.Viewer(fp.dump.read('{0}{1}'.format(steps, \".pkl\"))['var'])\n",
    "\n",
    "viewers.append(viewer)"
   ]
  },
  {
   "cell_type": "code",
   "execution_count": 10,
   "metadata": {
    "collapsed": false
   },
   "outputs": [
    {
     "name": "stdout",
     "output_type": "stream",
     "text": [
      "Object `pickle.load` not found.\n"
     ]
    }
   ],
   "source": [
    "?pickle.load()"
   ]
  },
  {
   "cell_type": "code",
   "execution_count": 11,
   "metadata": {
    "collapsed": false
   },
   "outputs": [
    {
     "ename": "NameError",
     "evalue": "global name 'time_list' is not defined",
     "output_type": "error",
     "traceback": [
      "\u001b[1;31m---------------------------------------------------------------------------\u001b[0m",
      "\u001b[1;31mNameError\u001b[0m                                 Traceback (most recent call last)",
      "\u001b[1;32m<ipython-input-11-6c9ab948a812>\u001b[0m in \u001b[0;36m<module>\u001b[1;34m()\u001b[0m\n\u001b[0;32m      5\u001b[0m     \u001b[0mplt\u001b[0m\u001b[1;33m.\u001b[0m\u001b[0mplot\u001b[0m\u001b[1;33m(\u001b[0m\u001b[0mtime_list\u001b[0m\u001b[1;33m,\u001b[0m \u001b[0mf_list\u001b[0m\u001b[1;33m)\u001b[0m\u001b[1;33m\u001b[0m\u001b[0m\n\u001b[0;32m      6\u001b[0m     \u001b[0mplt\u001b[0m\u001b[1;33m.\u001b[0m\u001b[0mshow\u001b[0m\u001b[1;33m(\u001b[0m\u001b[1;33m)\u001b[0m\u001b[1;33m\u001b[0m\u001b[0m\n\u001b[1;32m----> 7\u001b[1;33m \u001b[0mplotf\u001b[0m\u001b[1;33m(\u001b[0m\u001b[1;33m)\u001b[0m\u001b[1;33m\u001b[0m\u001b[0m\n\u001b[0m",
      "\u001b[1;32m<ipython-input-11-6c9ab948a812>\u001b[0m in \u001b[0;36mplotf\u001b[1;34m()\u001b[0m\n\u001b[0;32m      3\u001b[0m     \u001b[0mplt\u001b[0m\u001b[1;33m.\u001b[0m\u001b[0mxlabel\u001b[0m\u001b[1;33m(\u001b[0m\u001b[1;34m'time t'\u001b[0m\u001b[1;33m)\u001b[0m\u001b[1;33m\u001b[0m\u001b[0m\n\u001b[0;32m      4\u001b[0m     \u001b[0mplt\u001b[0m\u001b[1;33m.\u001b[0m\u001b[0mylabel\u001b[0m\u001b[1;33m(\u001b[0m\u001b[1;34m'volume integral of f'\u001b[0m\u001b[1;33m)\u001b[0m\u001b[1;33m\u001b[0m\u001b[0m\n\u001b[1;32m----> 5\u001b[1;33m     \u001b[0mplt\u001b[0m\u001b[1;33m.\u001b[0m\u001b[0mplot\u001b[0m\u001b[1;33m(\u001b[0m\u001b[0mtime_list\u001b[0m\u001b[1;33m,\u001b[0m \u001b[0mf_list\u001b[0m\u001b[1;33m)\u001b[0m\u001b[1;33m\u001b[0m\u001b[0m\n\u001b[0m\u001b[0;32m      6\u001b[0m     \u001b[0mplt\u001b[0m\u001b[1;33m.\u001b[0m\u001b[0mshow\u001b[0m\u001b[1;33m(\u001b[0m\u001b[1;33m)\u001b[0m\u001b[1;33m\u001b[0m\u001b[0m\n\u001b[0;32m      7\u001b[0m \u001b[0mplotf\u001b[0m\u001b[1;33m(\u001b[0m\u001b[1;33m)\u001b[0m\u001b[1;33m\u001b[0m\u001b[0m\n",
      "\u001b[1;31mNameError\u001b[0m: global name 'time_list' is not defined"
     ]
    },
    {
     "data": {
      "image/png": "[encoded data removed]",
      "text/plain": [
       "<matplotlib.figure.Figure at 0x7f75c51c0750>"
      ]
     },
     "metadata": {},
     "output_type": "display_data"
    }
   ],
   "source": [
    "def plotf():\n",
    "    plt.figure(1)\n",
    "    plt.xlabel('time t')\n",
    "    plt.ylabel('volume integral of f')\n",
    "    plt.plot(time_list, f_list)\n",
    "    plt.show()\n",
    "plotf()"
   ]
  },
  {
   "cell_type": "code",
   "execution_count": null,
   "metadata": {
    "collapsed": false
   },
   "outputs": [],
   "source": [
    "plt.figure(2)\n",
    "\n",
    "plt.subplot(411)\n",
    "plt.subplot(412)\n",
    "plt.subplot(413)\n",
    "plt.subplot(414)"
   ]
  },
  {
   "cell_type": "code",
   "execution_count": null,
   "metadata": {
    "collapsed": true
   },
   "outputs": [],
   "source": [
    "energylist = np.loadtxt('free_energy.txt')"
   ]
  },
  {
   "cell_type": "code",
   "execution_count": null,
   "metadata": {
    "collapsed": false
   },
   "outputs": [],
   "source": [
    "!more free_energy.txt"
   ]
  },
  {
   "cell_type": "code",
   "execution_count": null,
   "metadata": {
    "collapsed": false
   },
   "outputs": [],
   "source": [
    "import fipy as fp\n",
    "\n",
    "m = fp.Grid2D(nx=3, ny=3, dx=0.5, dy=2.0)\n",
    "v = fp.CellVariable(mesh=m)\n",
    "v[:] = [1, 2, 3, 4, 5, 6, 7, 8, 9]\n",
    "print v\n",
    "print v.grad\n",
    "print v.grad.mag\n",
    "print (v.grad[0]**2 + v.grad[1]**2)**0.5"
   ]
  },
  {
   "cell_type": "code",
   "execution_count": null,
   "metadata": {
    "collapsed": false
   },
   "outputs": [],
   "source": [
    "from fipy import *\n",
    "\n",
    "m = fp.Grid2D(nx=40, ny=40, dx=0.5, dy=0.5)\n",
    "x, y = m.cellCenters\n",
    "xyVar = fp.CellVariable(mesh=m, name = \"x y\", value = x * y)\n",
    "k = fp.Variable(name=\"k\", value = 1.)\n",
    "viewer = fp.Viewer(vars = fp.numerix.sin(k * xyVar),\n",
    "                    limits = {'ymin': 0.1, 'ymax': 19.9},\n",
    "                    datamin=-1.0, datamax =2.0,\n",
    "                    title = \"Matplot2DViewer test\")\n",
    "\n",
    "# for kval in range(10):\n",
    "#     k.setValue(kval)\n",
    "#     viewer.plot()\n",
    "\n",
    "viewer1 = fp.Viewer(vars = fp.numerix.sin(2 * k * xyVar),\n",
    "                    limits = {'ymin': 0.1, 'ymax': 19.9},\n",
    "                    datamin=-0.9, datamax =2.0,\n",
    "                    title = \"Matplot2DViewer test\")\n",
    "\n",
    "MultiViewer([viewer, viewer1]).plot()\n",
    "\n",
    "\n",
    "\n",
    "\n",
    "# r = np.array((m.x, m.y))\n",
    "\n",
    "# array1 = []\n",
    "# array2 = []\n",
    "# array3 = []\n",
    "# array4 = []\n",
    "\n",
    "# for i in range(100):\n",
    "#     array1.append(np.cos(r*i**2))\n",
    "#     array2.append(r*np.sin(r*i-3))\n",
    "#     array3.append(r*np.sqrt(np.absolute(np.sin(r*3*i)+np.cos(r*i+2))))\n",
    "    \n",
    "# viewer1 = fp.Viewer(array1)"
   ]
  },
  {
   "cell_type": "code",
   "execution_count": null,
   "metadata": {
    "collapsed": false
   },
   "outputs": [],
   "source": [
    "a = \"{0} {1}\".format(3.0,\"hi\")\n",
    "print a"
   ]
  },
  {
   "cell_type": "code",
   "execution_count": null,
   "metadata": {
    "collapsed": false
   },
   "outputs": [],
   "source": [
    "import fipy as fp\n",
    "fp.dump.write({'time' : 50.0, 'var': c_var}, 'test.pkl')"
   ]
  },
  {
   "cell_type": "code",
   "execution_count": null,
   "metadata": {
    "collapsed": false
   },
   "outputs": [],
   "source": [
    "thing = fp.dump.read('test.pkl')"
   ]
  },
  {
   "cell_type": "code",
   "execution_count": null,
   "metadata": {
    "collapsed": false
   },
   "outputs": [],
   "source": [
    "print type(thing['var'])"
   ]
  },
  {
   "cell_type": "code",
   "execution_count": null,
   "metadata": {
    "collapsed": false
   },
   "outputs": [],
   "source": [
    "thing['var'].mesh"
   ]
  },
  {
   "cell_type": "code",
   "execution_count": null,
   "metadata": {
    "collapsed": false
   },
   "outputs": [],
   "source": [
    "b = '{0}{1}'.format(steps, \".pkl\")\n",
    "\n",
    "print b"
   ]
  },
  {
   "cell_type": "code",
   "execution_count": null,
   "metadata": {
    "collapsed": true
   },
   "outputs": [],
   "source": []
  }
 ],
 "metadata": {
  "kernelspec": {
   "display_name": "Python 2",
   "language": "python",
   "name": "python2"
  },
  "language_info": {
   "codemirror_mode": {
    "name": "ipython",
    "version": 2
   },
   "file_extension": ".py",
   "mimetype": "text/x-python",
   "name": "python",
   "nbconvert_exporter": "python",
   "pygments_lexer": "ipython2",
   "version": "2.7.11"
  }
 },
 "nbformat": 4,
 "nbformat_minor": 0
}
