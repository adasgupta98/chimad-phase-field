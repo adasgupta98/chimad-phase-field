{
 "cells": [
  {
   "cell_type": "markdown",
   "metadata": {},
   "source": [
    "# Table of Contents\n",
    "* [1a. Periodic spinodal decomposition on a square domain](#1a.-Periodic-spinodal-decomposition-on-a-square-domain)\n",
    "\t* [Define $f_0$](#Define-$f_0$)\n",
    "\t* [Define the Equation](#Define-the-Equation)\n",
    "\t* [Solve the Equation](#Solve-the-Equation)\n",
    "\t* [Run the Example Locally](#Run-the-Example-Locally)\n",
    "\t* [Free Energy Plots](#Free-Energy-Plots)\n"
   ]
  },
  {
   "cell_type": "markdown",
   "metadata": {},
   "source": [
    "# 1a. Periodic spinodal decomposition on a square domain"
   ]
  },
  {
   "cell_type": "markdown",
   "metadata": {},
   "source": [
    "The free energy is given by,\n",
    "\n",
    "$$ f_0\\left[ c \\left( \\vec{r} \\right) \\right] =\n",
    "   - \\frac{A}{2} \\left(c - c_m\\right)^2\n",
    "   + \\frac{B}{4} \\left(c - c_m\\right)^4\n",
    "   + \\frac{c_{\\alpha}}{4} \\left(c - c_{\\alpha} \\right)^4\n",
    "   + \\frac{c_{\\beta}}{4} \\left(c - c_{\\beta} \\right)^4 $$\n",
    "\n",
    "In FiPy we write the evolution equation as \n",
    "\n",
    "$$ \\frac{\\partial c}{\\partial t} = \\nabla \\cdot  \\left[\n",
    "       D \\left( c \\right) \\left( \\frac{ \\partial^2 f_0 }{ \\partial c^2} \\nabla c - \\kappa \\nabla \\nabla^2 c \\right)\n",
    "   \\right] $$\n",
    "\n",
    "Let's start by calculating $ \\frac{ \\partial^2 f_0 }{ \\partial c^2} $ using sympy. It's easy for this case, but useful in the general case for taking care of difficult book keeping in phase field problems."
   ]
  },
  {
   "cell_type": "code",
   "execution_count": 1,
   "metadata": {
    "collapsed": false
   },
   "outputs": [],
   "source": [
    "%matplotlib inline\n",
    "\n",
    "import sympy\n",
    "import fipy as fp\n",
    "import numpy as np\n",
    "import matplotlib.pyplot as plt"
   ]
  },
  {
   "cell_type": "code",
   "execution_count": 2,
   "metadata": {
    "collapsed": false
   },
   "outputs": [],
   "source": [
    "c, rho_s, c_alpha, c_beta = sympy.symbols(\"c_var rho_s c_alpha c_beta\")"
   ]
  },
  {
   "cell_type": "code",
   "execution_count": 3,
   "metadata": {
    "collapsed": true
   },
   "outputs": [],
   "source": [
    "f_0 = rho_s * (c - c_alpha)**2 * (c_beta - c)**2"
   ]
  },
  {
   "cell_type": "code",
   "execution_count": 4,
   "metadata": {
    "collapsed": false
   },
   "outputs": [
    {
     "name": "stdout",
     "output_type": "stream",
     "text": [
      "rho_s*(-c_alpha + c_var)**2*(c_beta - c_var)**2\n"
     ]
    }
   ],
   "source": [
    "print f_0"
   ]
  },
  {
   "cell_type": "code",
   "execution_count": 5,
   "metadata": {
    "collapsed": false
   },
   "outputs": [
    {
     "data": {
      "text/plain": [
       "2*rho_s*((c_alpha - c_var)**2 + 4*(c_alpha - c_var)*(c_beta - c_var) + (c_beta - c_var)**2)"
      ]
     },
     "execution_count": 5,
     "metadata": {},
     "output_type": "execute_result"
    }
   ],
   "source": [
    "sympy.diff(f_0, c, 2)"
   ]
  },
  {
   "cell_type": "markdown",
   "metadata": {},
   "source": [
    "The first step in implementing any problem in FiPy is to define the mesh. For [Problem 1a]({{ site.baseurl }}/hackathon1/#a.-Square-Periodic) the solution domain is just a square domain, but the boundary conditions are periodic, so a `PeriodicGrid2D` object is used. No other boundary conditions are required."
   ]
  },
  {
   "cell_type": "code",
   "execution_count": 6,
   "metadata": {
    "collapsed": true
   },
   "outputs": [],
   "source": [
    "import fipy as fp\n",
    "mesh = fp.Gmsh2DIn3DSpace('''\n",
    "                          radius = 5.0;\n",
    "                          cellSize = .3;\n",
    "\n",
    "                          // create inner 1/8 shell\n",
    "                          Point(1) = {0, 0, 0, cellSize};\n",
    "                          Point(2) = {-radius, 0, 0, cellSize};\n",
    "                          Point(3) = {0, radius, 0, cellSize};\n",
    "                          Point(4) = {0, 0, radius, cellSize};\n",
    "                          Circle(1) = {2, 1, 3};\n",
    "                          Circle(2) = {4, 1, 2};\n",
    "                          Circle(3) = {4, 1, 3};\n",
    "                          Line Loop(1) = {1, -3, 2};\n",
    "                          Ruled Surface(1) = {1};\n",
    "\n",
    "                          // create remaining 7/8 inner shells\n",
    "                          t1[] = Rotate {{0,0,1},{0,0,0},Pi/2} {Duplicata{Surface{1};}};\n",
    "                          t2[] = Rotate {{0,0,1},{0,0,0},Pi} {Duplicata{Surface{1};}};\n",
    "                          t3[] = Rotate {{0,0,1},{0,0,0},Pi*3/2} {Duplicata{Surface{1};}};\n",
    "                          t4[] = Rotate {{0,1,0},{0,0,0},-Pi/2} {Duplicata{Surface{1};}};\n",
    "                          t5[] = Rotate {{0,0,1},{0,0,0},Pi/2} {Duplicata{Surface{t4[0]};}};\n",
    "                          t6[] = Rotate {{0,0,1},{0,0,0},Pi} {Duplicata{Surface{t4[0]};}};\n",
    "                          t7[] = Rotate {{0,0,1},{0,0,0},Pi*3/2} {Duplicata{Surface{t4[0]};}};\n",
    "\n",
    "                          // create entire inner and outer shell\n",
    "                          Surface Loop(100)={1, t1[0],t2[0],t3[0],t7[0],t4[0],t5[0],t6[0]};\n",
    "                          ''', order=2.0).extrude(extrudeFunc=lambda r: 1.1*r)"
   ]
  },
  {
   "cell_type": "code",
   "execution_count": 6,
   "metadata": {
    "collapsed": false
   },
   "outputs": [],
   "source": [
    "mesh = fp.Grid2D(dx=0.5, dy=0.5, nx=40, ny=200) + (fp.Grid2D(dx=0.5, dy=0.5, nx=200, ny=40) + [[-40],[100]])"
   ]
  },
  {
   "cell_type": "markdown",
   "metadata": {},
   "source": [
    "The next step is to define the parameters and create a solution variable.\n",
    "Constants and initial conditions:\n",
    "$c_{\\alpha}$ and $c_{\\beta}$ are concentrations at which the bulk free energy has minima.\n",
    "$\\kappa$ is the gradient energy coefficient.\n",
    "$\\varrho_s$ controls the height of the double-well barrier."
   ]
  },
  {
   "cell_type": "code",
   "execution_count": 7,
   "metadata": {
    "collapsed": false
   },
   "outputs": [],
   "source": [
    "c_alpha = 0.3\n",
    "c_beta = 0.7\n",
    "kappa = 2.0\n",
    "M = 5.0\n",
    "c_0 = 0.5\n",
    "epsilon = 0.01\n",
    "rho_s = 5.0\n",
    "\n",
    "c_var = fp.CellVariable(mesh=mesh, name=r\"$c$\", hasOld=True)"
   ]
  },
  {
   "cell_type": "markdown",
   "metadata": {},
   "source": [
    "Now we need to define the initial conditions.\n",
    "\n",
    "$c_{var}$ is a cell variable specifying concentrations at various points in the mesh. Here, it is the solution variable:\n",
    "\n",
    "Set $c\\left(x, y\\right)$ such that\n",
    "\n",
    "$$ c\\left(x, y\\right) = \\bar{c}_0 + \\epsilon_{\\Box}[\\cos(0.105x) \\cos(0.11y) + [\\cos(0.13x) \\cos(.087y)]^2 + \\cos(0.025x-0.15y) \\cos(0.07x-0.02y)].$$"
   ]
  },
  {
   "cell_type": "code",
   "execution_count": 8,
   "metadata": {
    "collapsed": true
   },
   "outputs": [],
   "source": [
    "# array of sample c-values: used in f versus c plot\n",
    "vals = np.linspace(-.1, 1.1, 1000)\n",
    "\n",
    "c_var = fp.CellVariable(mesh=mesh, name=r\"$c$\", hasOld=True)"
   ]
  },
  {
   "cell_type": "code",
   "execution_count": 9,
   "metadata": {
    "collapsed": false
   },
   "outputs": [
    {
     "data": {
      "image/png": "[encoded data removed]",
      "text/plain": [
       "<matplotlib.figure.Figure at 0x7fe46c46fc50>"
      ]
     },
     "metadata": {},
     "output_type": "display_data"
    }
   ],
   "source": [
    "x , y = np.array(mesh.x), np.array(mesh.y)\n",
    "\n",
    "c_var[:] = c_0 + epsilon * (np.cos(0.105 * x) * np.cos(0.11 * y) + \\\n",
    "                            (np.cos(0.13 * x) * np.cos(0.087 * y))**2 + \\\n",
    "                            + np.cos(0.025 * x - 0.15 * y) * np.cos(0.07 * x - 0.02 * y))\n",
    "\n",
    "viewer = fp.Viewer(c_var)"
   ]
  },
  {
   "cell_type": "markdown",
   "metadata": {},
   "source": [
    "## Define $f_0$"
   ]
  },
  {
   "cell_type": "markdown",
   "metadata": {},
   "source": [
    "To define the equation with FiPy first define `f_0` in terms of FiPy. Recall `f_0` from above calculated using Sympy. Here we use the string representation and set it equal to `f_0_var` using the `exec` command."
   ]
  },
  {
   "cell_type": "code",
   "execution_count": 10,
   "metadata": {
    "collapsed": false
   },
   "outputs": [],
   "source": [
    "out = sympy.diff(f_0, c, 2)"
   ]
  },
  {
   "cell_type": "code",
   "execution_count": 11,
   "metadata": {
    "collapsed": false
   },
   "outputs": [],
   "source": [
    "exec \"f_0_var = \" + repr(out)"
   ]
  },
  {
   "cell_type": "code",
   "execution_count": 12,
   "metadata": {
    "collapsed": false
   },
   "outputs": [
    {
     "data": {
      "text/plain": [
       "((((pow((0.3 - $c$), 2)) + (((0.3 - $c$) * 4) * (0.7 - $c$))) + (pow((0.7 - $c$), 2))) * 10.0)"
      ]
     },
     "execution_count": 12,
     "metadata": {},
     "output_type": "execute_result"
    }
   ],
   "source": [
    "#f_0_var = -A + 3*B*(c_var - c_m)**2 + 3*c_alpha*(c_var - c_alpha)**2 + 3*c_beta*(c_var - c_beta)**2\n",
    "f_0_var"
   ]
  },
  {
   "cell_type": "code",
   "execution_count": 13,
   "metadata": {
    "collapsed": true
   },
   "outputs": [],
   "source": [
    "# bulk free energy density\n",
    "def f_0(c):\n",
    "    return rho_s*((c - c_alpha)**2)*((c_beta-c)**2)\n",
    "def f_0_var(c_var):\n",
    "    return 2*rho_s*((c_alpha - c_var)**2 + 4*(c_alpha - c_var)*(c_beta - c_var) + (c_beta - c_var)**2)\n",
    "# free energy\n",
    "def f(c):\n",
    "    return (f_0(c)+ .5*kappa*(c.grad.mag)**2)\n",
    "\n",
    "# plot free energy density versus c\n",
    "def plotf_c():\n",
    "    plt.figure(1)\n",
    "    plt.xlabel('c')\n",
    "    plt.ylabel('f_0')\n",
    "    plt.plot(vals, f_0(vals))\n",
    "    plt.show()"
   ]
  },
  {
   "cell_type": "markdown",
   "metadata": {},
   "source": [
    "Here, the elapsed time and total free energy at each time step are saved to separate lists. These lists are then updated in a text file."
   ]
  },
  {
   "cell_type": "code",
   "execution_count": 14,
   "metadata": {
    "collapsed": true
   },
   "outputs": [],
   "source": [
    "# save elapsed time and free energy at each data point\n",
    "f_data = []\n",
    "time_data = []\n",
    "\n",
    "def save_data(f, time):\n",
    "    f_data.append(f.value)\n",
    "    time_data.append(time)\n",
    "    np.savetxt('1c.txt', zip(time_data, f_data))"
   ]
  },
  {
   "cell_type": "markdown",
   "metadata": {},
   "source": [
    "## Define the Equation"
   ]
  },
  {
   "cell_type": "code",
   "execution_count": 15,
   "metadata": {
    "collapsed": false
   },
   "outputs": [
    {
     "data": {
      "text/plain": [
       "(TransientTerm(coeff=1.0) + (DiffusionTerm(coeff=[-((((((pow((0.3 - $c$), 2)) + (((0.3 - $c$) * 4) * (0.7 - $c$))) + (pow((0.7 - $c$), 2))) * 10.0) * 5.0))]) + DiffusionTerm(coeff=[5.0, 2.0])))"
      ]
     },
     "execution_count": 15,
     "metadata": {},
     "output_type": "execute_result"
    }
   ],
   "source": [
    "eqn = fp.TransientTerm(coeff=1.) == fp.DiffusionTerm(M * f_0_var(c_var)) - fp.DiffusionTerm((M, kappa))\n",
    "eqn"
   ]
  },
  {
   "cell_type": "markdown",
   "metadata": {},
   "source": [
    "## Solve the Equation"
   ]
  },
  {
   "cell_type": "markdown",
   "metadata": {},
   "source": [
    "To solve the equation a simple time stepping scheme is used which is decreased or increased based on whether the residual decreases or increases. A time step is recalculated if the required tolerance is not reached."
   ]
  },
  {
   "cell_type": "code",
   "execution_count": null,
   "metadata": {
    "collapsed": true
   },
   "outputs": [],
   "source": [
    "elapsed = 0.0\n",
    "steps = 0\n",
    "dt = 0.01\n",
    "total_sweeps = 2\n",
    "tolerance = 1e-1\n",
    "total_steps = 5000\n",
    "duration = 1000.0\n",
    "viewers = []"
   ]
  },
  {
   "cell_type": "code",
   "execution_count": null,
   "metadata": {
    "collapsed": false
   },
   "outputs": [],
   "source": [
    "c_var[:] = c_0 + epsilon * (np.cos(0.105 * x) * np.cos(0.11 * y) + \\\n",
    "                            (np.cos(0.13 * x) * np.cos(0.087 * y))**2 + \\\n",
    "                            + np.cos(0.025 * x - 0.15 * y) * np.cos(0.07 * x - 0.02 * y))\n",
    "c_var.updateOld()\n",
    "from fipy.solvers.pysparse import LinearLUSolver as Solver\n",
    "solver = Solver()\n",
    "\n",
    "while elapsed < duration and steps < total_steps:\n",
    "    res0 = eqn.sweep(c_var, dt=dt, solver=solver)\n",
    "\n",
    "    for sweeps in range(total_sweeps):\n",
    "        res = eqn.sweep(c_var, dt=dt, solver=solver)\n",
    "\n",
    "    if res < res0 * tolerance:\n",
    "        steps += 1\n",
    "        elapsed += dt\n",
    "        dt *= 1.1\n",
    "        c_var.updateOld()\n",
    "        # record the volume integral of the free energy \n",
    "        save_data(f(c_var).cellVolumeAverage*mesh.numberOfCells, elapsed)\n",
    "        # pickle the data on c as a function of space at this particular time\n",
    "        fp.dump.write({'time' : steps, 'var': c_var}, '1cpickles/1c{0}.pkl'.format(steps))\n",
    "        if (steps%(total_steps/10)==0):\n",
    "            print steps\n",
    "            print elapsed\n",
    "            \n",
    "            \n",
    "            # create a viewer based on the pickled data\n",
    "            viewers.append(fp.Viewer((fp.dump.read('1cpickles/1c{0}.pkl'.format(steps))['var']),\n",
    "                        datamin=.448, datamax =.455,\n",
    "                        title = 'Step: {0} Time: {1}'.format(steps, \"%0.2f\" %elapsed)))\n",
    "    else:\n",
    "        dt *= 0.8\n",
    "        c_var[:] = c_var.old\n",
    "\n",
    "viewer.plot()\n",
    "print 'elapsed_time:',elapsed"
   ]
  },
  {
   "cell_type": "markdown",
   "metadata": {},
   "source": [
    "## Free Energy Plots"
   ]
  },
  {
   "cell_type": "code",
   "execution_count": null,
   "metadata": {
    "collapsed": false
   },
   "outputs": [],
   "source": [
    "plotf_c()\n",
    "\n",
    "plt.figure(3)\n",
    "plt.xlabel('time t')\n",
    "plt.ylabel('volume integral of f_var_0')\n",
    "plt.plot(time_data, f_data)\n",
    "plt.show()"
   ]
  },
  {
   "cell_type": "code",
   "execution_count": null,
   "metadata": {
    "collapsed": true
   },
   "outputs": [],
   "source": []
  }
 ],
 "metadata": {
  "kernelspec": {
   "display_name": "Python 2",
   "language": "python",
   "name": "python2"
  },
  "language_info": {
   "codemirror_mode": {
    "name": "ipython",
    "version": 2
   },
   "file_extension": ".py",
   "mimetype": "text/x-python",
   "name": "python",
   "nbconvert_exporter": "python",
   "pygments_lexer": "ipython2",
   "version": "2.7.11"
  }
 },
 "nbformat": 4,
 "nbformat_minor": 0
}
