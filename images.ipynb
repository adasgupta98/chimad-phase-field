{
 "cells": [
  {
   "cell_type": "code",
   "execution_count": null,
   "metadata": {
    "collapsed": false,
    "scrolled": true
   },
   "outputs": [],
   "source": [
    "%matplotlib inline\n",
    "import matplotlib.pyplot as plt\n",
    "import numpy as np\n",
    "import fipy as fp\n",
    "\n",
    "nx = 400\n",
    "dx = 0.5\n",
    "mesh = fp.Grid2D(Lx=20., Ly=100.0, nx=nx / 5, ny=nx) + (fp.Grid2D(Ly=20.0, Lx=100.0, nx=nx, ny=nx / 5) + [[-40],[100]])\n",
    "\n",
    "# load and cut off values at given duration\n",
    "times = np.load('/data/and9/surf-research/Anushka/1c400/1c400.npz')['time']\n",
    "c_np = np.load('/data/and9/surf-research/Anushka/1c400/1c400.npz')['c_var']\n",
    "f = np.load('/data/and9/surf-research/Anushka/1c400/1c400.npz')['f']\n",
    "\n",
    "c_np_0 = c_np[0]\n",
    "\n",
    "c_var = fp.CellVariable(value = c_np_0, mesh = mesh)\n",
    "viewer = fp.Viewer(c_var, title = \"Time\")\n",
    "index = 0\n",
    "\n",
    "for i in range(len(times)):\n",
    "    \n",
    "    current_time = times[index]\n",
    "    print current_time\n",
    "    \n",
    "    f_current = f[:(index+1)]\n",
    "    times_current = times[:(index+1)]\n",
    "    c_np_current = c_np[index]\n",
    "    c_var = fp.CellVariable(value = c_np_current, mesh = mesh)\n",
    "\n",
    "    fig = plt.figure(figsize = (10, 5))\n",
    "    fig.suptitle('Fixed-Flux Boundary Conditions on a Square Domain', fontsize = 15)\n",
    "    \n",
    "    axes1 = fig.add_subplot(121)\n",
    "    viewer = fp.Viewer(c_var, axes=axes1, colorbar=None, title = 'Concentration Distribution', fontsize = 10)\n",
    "    viewer.axes.get_xaxis().set_visible(False)\n",
    "    viewer.axes.get_yaxis().set_visible(False)\n",
    "\n",
    "    axes2 = fig.add_subplot(122)\n",
    "    axes2.set_xlabel('Time', fontsize = 10)\n",
    "    axes2.set_ylabel('Free Energy', fontsize = 10)\n",
    "    axes2.set_title('Total Free Energy Evolution', fontsize = 10)\n",
    "    axes2.set_xlim(0, times[-1] + 10)\n",
    "    axes2.set_ylim(0, f[0] + 10)\n",
    "    print times_current\n",
    "    print f_current\n",
    "\n",
    "    axes2.set_yscale('symlog')\n",
    "    axes2.set_xscale('symlog')\n",
    "    axes2.plot(times_current, f_current)\n",
    "\n",
    "    plt.subplots_adjust(left=.05, right=.95, top=.85, bottom=.1, wspace = .2)\n",
    "    fig.show()\n",
    "    \n",
    "    plt.savefig('1b_images/image{0}.png'.format(str(index).rjust(5, '0')))\n",
    "    print \"saving \", '1b_images/image{0}.png'.format(str(index).rjust(5, '0'))\n",
    "    index += 1"
   ]
  },
  {
   "cell_type": "code",
   "execution_count": null,
   "metadata": {
    "collapsed": true
   },
   "outputs": [],
   "source": [
    "print f"
   ]
  },
  {
   "cell_type": "code",
   "execution_count": null,
   "metadata": {
    "collapsed": false
   },
   "outputs": [],
   "source": [
    "print times_current\n",
    "print f_current"
   ]
  },
  {
   "cell_type": "code",
   "execution_count": null,
   "metadata": {
    "collapsed": false
   },
   "outputs": [],
   "source": [
    "\"\"\"\n",
    "Daniel's attempt at plotting free energy and c side by side.\n",
    "\"\"\"\n",
    "from matplotlib import gridspec\n",
    "current_time = times[index]\n",
    "print current_time\n",
    "print type(c_var)\n",
    "f_current = f[:index]\n",
    "times_current = times[:index]\n",
    "\n",
    "\n",
    "fig = plt.figure(figsize = (10, 5))\n",
    "fig.suptitle('Fixed-Flux Boundary Conditions on a Square Domain', fontsize = 15)\n",
    "# fig.set_title()\n",
    "\n",
    "\n",
    "axes1 = fig.add_subplot(121)\n",
    "viewer = fp.Viewer(c_var, axes=axes1, colorbar=None, title = 'Concentration Distribution', fontsize = 10)\n",
    "viewer.axes.get_xaxis().set_visible(False)\n",
    "viewer.axes.get_yaxis().set_visible(False)\n",
    "\n",
    "\n",
    "axes2 = fig.add_subplot(122)\n",
    "axes2.set_xlabel('Time', fontsize = 10)\n",
    "axes2.set_ylabel('Free Energy', fontsize = 10)\n",
    "axes2.set_title('Total Free Energy Evolution', fontsize = 10)\n",
    "axes2.set_xlim(0, times[-1])\n",
    "axes2.set_ylim(0, f[-1])\n",
    "axes2.plot(times_current, f_current)\n",
    "\n",
    "plt.subplots_adjust(left=0, right=1, top=.85, bottom=.1, wspace = .2)\n",
    "\n",
    "# fig1 = plt.figure(figsize=(10, 10))\n",
    "# fig2 = plt.figure(figsize=(10, 6))\n",
    "\n",
    "plt.show()\n",
    "#     cvarplot = fp.Viewer(c_var, title = \"Time\")\n",
    "#     sub1 = fig.add_subplot(221)\n",
    "#     sub1.set_title('Concentration Distribution') # non OOP: plt.title('The function f')\n",
    "#     sub1.plot(cvarplot.plot())\n",
    "    \n",
    "#     sub2 = fig.add_subplot(222)\n",
    "#     sub2.set_title('Free Energy') \n",
    "#     sub2.plot(times[times < duration], f[times < duration])\n",
    "# plt.tight_layout()\n",
    "#     plt.show(fig)\n",
    "#     # sub2.set_title('fp, the derivation of f')\n",
    "#     # sub2.plot(t, fp(t))\n",
    "#     index += 1\n",
    "\n"
   ]
  },
  {
   "cell_type": "code",
   "execution_count": null,
   "metadata": {
    "collapsed": false
   },
   "outputs": [],
   "source": [
    "\"\"\"\n",
    "trying to plot gibbs on its own\n",
    "\"\"\"\n",
    "\n",
    "\n",
    "for i in range(len(times)):\n",
    "    \n",
    "    current_time = times[index]\n",
    "    print current_time\n",
    "    print f[index]\n",
    "    \n",
    "    f_current = f[0:(index+1)]\n",
    "    times_current = times[0:(index+1)]\n",
    "    c_np_current = c_np[index]\n",
    "    c_var = fp.CellVariable(value = c_np_current, mesh = mesh)\n",
    "\n",
    "    fig = plt.figure(figsize = (10, 5))\n",
    "#     fig.suptitle('Fixed-Flux Boundary Conditions on a Square Domain', fontsize = 15)\n",
    "    \n",
    "#     axes1 = fig.add_subplot(121)\n",
    "#     viewer = fp.Viewer(c_var, axes=axes1, colorbar=None, title = 'Concentration Distribution', fontsize = 10)\n",
    "#     viewer.axes.get_xaxis().set_visible(False)\n",
    "#     viewer.axes.get_yaxis().set_visible(False)\n",
    "\n",
    "    axes2 = fig.add_subplot(122)\n",
    "    axes2.set_xlabel('Time', fontsize = 10)\n",
    "    axes2.set_ylabel('Free Energy', fontsize = 10)\n",
    "    axes2.set_title('Total Free Energy Evolution', fontsize = 10)\n",
    "    axes2.set_xlim(0, times[-1])\n",
    "    axes2.set_ylim(0, f[-1])\n",
    "    axes2.plot(times_current, f_current)\n",
    "    \n",
    "#     plt.subplots_adjust(left=0, right=.95, top=.85, bottom=.1, wspace = .2)\n",
    "    plt.show()\n",
    "    \n",
    "#     plt.savefig('testimages/image{0}.png'.format(str(index).rjust(5, '0')))\n",
    "    index += 1"
   ]
  },
  {
   "cell_type": "markdown",
   "metadata": {},
   "source": [
    " \n",
    "c_var = fp.CellVariable(value = c_np[index], mesh = mesh)\n",
    "fp.Viewer(c_var)"
   ]
  },
  {
   "cell_type": "raw",
   "metadata": {},
   "source": [
    "viewer = fp.Viewer(c_var)"
   ]
  },
  {
   "cell_type": "code",
   "execution_count": null,
   "metadata": {
    "collapsed": false
   },
   "outputs": [],
   "source": [
    "index = -1\n",
    "\n",
    "for instant in times:\n",
    "    index += 1\n",
    "    print c_np[index]\n",
    "#     c_var = fp.CellVariable(value = c_np[times = instant], mesh = mesh)\n",
    "#     viewer.plot(c_var[instant])"
   ]
  },
  {
   "cell_type": "code",
   "execution_count": null,
   "metadata": {
    "collapsed": false
   },
   "outputs": [],
   "source": [
    "%matplotlib inline\n",
    "import matplotlib.pyplot as plt\n",
    "import numpy as np\n",
    "import fipy as fp\n",
    "\n",
    "times = np.load('1b/1b400.npz')['time']\n",
    "c_np = np.load('1b/1b400.npz')['c_var']\n",
    "c_np_0 = c_np[0]"
   ]
  },
  {
   "cell_type": "code",
   "execution_count": null,
   "metadata": {
    "collapsed": true
   },
   "outputs": [],
   "source": []
  },
  {
   "cell_type": "code",
   "execution_count": null,
   "metadata": {
    "collapsed": false
   },
   "outputs": [],
   "source": [
    "print type(c_np), c_np.shape\n",
    "print type(c_np_0), c_np_0.shape\n",
    "# print c_var.shape"
   ]
  },
  {
   "cell_type": "code",
   "execution_count": null,
   "metadata": {
    "collapsed": false
   },
   "outputs": [],
   "source": [
    "#data = np.load('/data/and9/surf-research/Anushka/1b100/1b100.npz')\n",
    "data = np.load('./1b/1b100.npz')\n",
    "print data['c_var'].shape\n",
    "print data['f'].shape\n",
    "print data['time']"
   ]
  },
  {
   "cell_type": "code",
   "execution_count": null,
   "metadata": {
    "collapsed": false
   },
   "outputs": [],
   "source": [
    "!ls"
   ]
  },
  {
   "cell_type": "code",
   "execution_count": null,
   "metadata": {
    "collapsed": true
   },
   "outputs": [],
   "source": [
    "times = np.load()['time']\n",
    "c_np = np.load('../data/and9/surf-research/Anushka/1c100/1c100.npz')['c_var']"
   ]
  },
  {
   "cell_type": "code",
   "execution_count": null,
   "metadata": {
    "collapsed": false
   },
   "outputs": [],
   "source": [
    "!ls /data/and9/surf-research/Anushka/1c100/1c100.npz"
   ]
  },
  {
   "cell_type": "code",
   "execution_count": null,
   "metadata": {
    "collapsed": false
   },
   "outputs": [],
   "source": [
    "!ls "
   ]
  },
  {
   "cell_type": "code",
   "execution_count": null,
   "metadata": {
    "collapsed": false
   },
   "outputs": [],
   "source": [
    "import numpy as np\n",
    "from numpy import e, pi, sin, exp, cos\n",
    "import matplotlib.pyplot as plt\n",
    "def f(t):\n",
    "    return exp(-t) * cos(2*pi*t)\n",
    "def fp(t):\n",
    "    return -2*pi * exp(-t) * sin(2*pi*t) - e**(-t)*cos(2*pi*t)\n",
    "def g(t):\n",
    "    return sin(t) * cos(1/(t+0.1))\n",
    "def g(t):\n",
    "    return sin(t) * cos(1/(t))\n",
    "python_course_green = \"#476042\"\n",
    "fig1 = plt.figure(figsize=(10, 10))\n",
    "fig2 = plt.figure(figsize=(10, 6))\n",
    "t = np.arange(-5.0, 1.0, 0.1)\n",
    "sub1 = fig1.add_subplot(221) # instead of plt.subplot(2, 2, 1)\n",
    "sub1.set_title('Concentration Distribution') # non OOP: plt.title('The function f')\n",
    "sub1.plot(fp.Viewer(c_var, title = \"Time\").plot())\n",
    "# sub1.plot(t, f(t))\n",
    "# sub2 = fig.add_subplot(222, axisbg=\"lightgrey\")\n",
    "# sub2.set_title('fp, the derivation of f')\n",
    "# sub2.plot(t, fp(t))\n",
    "# t = np.arange(-3.0, 2.0, 0.02)\n",
    "# sub3 = fig.add_subplot(223)\n",
    "# sub3.set_title('The function g')\n",
    "# sub3.plot(t, g(t))\n",
    "# t = np.arange(-0.2, 0.2, 0.001)\n",
    "# sub4 = fig.add_subplot(224, axisbg=\"lightgrey\")\n",
    "# sub4.set_title('A closer look at g')\n",
    "# sub4.set_xticks([-0.2, -0.1, 0, 0.1, 0.2])\n",
    "# sub4.set_yticks([-0.15, -0.1, 0, 0.1, 0.15])\n",
    "# sub4.plot(t, g(t))\n",
    "# plt.plot(t, g(t))\n",
    "# plt.tight_layout()\n",
    "plt.show()"
   ]
  },
  {
   "cell_type": "code",
   "execution_count": null,
   "metadata": {
    "collapsed": true
   },
   "outputs": [],
   "source": [
    "from IPython.display import YouTubeVideo\n",
    "scale = 1.5\n",
    "YouTubeVideo('t3tMYp806E4', width=420 * scale, height=315 * scale, rel=0)"
   ]
  },
  {
   "cell_type": "code",
   "execution_count": 1,
   "metadata": {
    "collapsed": false
   },
   "outputs": [
    {
     "name": "stdout",
     "output_type": "stream",
     "text": [
      "viewer: NOT READY\n"
     ]
    },
    {
     "ename": "IOError",
     "evalue": "[Errno 2] No such file or directory: 'viewer.png'",
     "output_type": "error",
     "traceback": [
      "\u001b[1;31m---------------------------------------------------------------------------\u001b[0m",
      "\u001b[1;31mIOError\u001b[0m                                   Traceback (most recent call last)",
      "\u001b[1;32m<ipython-input-1-2f69a7e8a478>\u001b[0m in \u001b[0;36m<module>\u001b[1;34m()\u001b[0m\n\u001b[0;32m     83\u001b[0m \u001b[1;33m\u001b[0m\u001b[0m\n\u001b[0;32m     84\u001b[0m     \u001b[0mviewer\u001b[0m\u001b[1;33m.\u001b[0m\u001b[0mplot\u001b[0m\u001b[1;33m(\u001b[0m\u001b[1;34m'viewer.png'\u001b[0m\u001b[1;33m)\u001b[0m\u001b[1;33m\u001b[0m\u001b[0m\n\u001b[1;32m---> 85\u001b[1;33m     \u001b[0mimg\u001b[0m\u001b[1;33m=\u001b[0m\u001b[0mmpimg\u001b[0m\u001b[1;33m.\u001b[0m\u001b[0mimread\u001b[0m\u001b[1;33m(\u001b[0m\u001b[1;34m'viewer.png'\u001b[0m\u001b[1;33m)\u001b[0m\u001b[1;33m\u001b[0m\u001b[0m\n\u001b[0m\u001b[0;32m     86\u001b[0m     \u001b[0maxes1\u001b[0m\u001b[1;33m.\u001b[0m\u001b[0mimshow\u001b[0m\u001b[1;33m(\u001b[0m\u001b[0mimg\u001b[0m\u001b[1;33m[\u001b[0m\u001b[1;33m:\u001b[0m \u001b[1;33m,\u001b[0m \u001b[1;36m160\u001b[0m\u001b[1;33m:\u001b[0m\u001b[1;36m385\u001b[0m\u001b[1;33m]\u001b[0m\u001b[1;33m)\u001b[0m\u001b[1;33m\u001b[0m\u001b[0m\n\u001b[0;32m     87\u001b[0m \u001b[1;33m\u001b[0m\u001b[0m\n",
      "\u001b[1;32m/users/and9/miniconda2/lib/python2.7/site-packages/matplotlib/image.pyc\u001b[0m in \u001b[0;36mimread\u001b[1;34m(fname, format)\u001b[0m\n\u001b[0;32m   1265\u001b[0m     \u001b[1;31m# tricky in C.\u001b[0m\u001b[1;33m\u001b[0m\u001b[1;33m\u001b[0m\u001b[0m\n\u001b[0;32m   1266\u001b[0m     \u001b[1;32mif\u001b[0m \u001b[0mcbook\u001b[0m\u001b[1;33m.\u001b[0m\u001b[0mis_string_like\u001b[0m\u001b[1;33m(\u001b[0m\u001b[0mfname\u001b[0m\u001b[1;33m)\u001b[0m\u001b[1;33m:\u001b[0m\u001b[1;33m\u001b[0m\u001b[0m\n\u001b[1;32m-> 1267\u001b[1;33m         \u001b[1;32mwith\u001b[0m \u001b[0mopen\u001b[0m\u001b[1;33m(\u001b[0m\u001b[0mfname\u001b[0m\u001b[1;33m,\u001b[0m \u001b[1;34m'rb'\u001b[0m\u001b[1;33m)\u001b[0m \u001b[1;32mas\u001b[0m \u001b[0mfd\u001b[0m\u001b[1;33m:\u001b[0m\u001b[1;33m\u001b[0m\u001b[0m\n\u001b[0m\u001b[0;32m   1268\u001b[0m             \u001b[1;32mreturn\u001b[0m \u001b[0mhandler\u001b[0m\u001b[1;33m(\u001b[0m\u001b[0mfd\u001b[0m\u001b[1;33m)\u001b[0m\u001b[1;33m\u001b[0m\u001b[0m\n\u001b[0;32m   1269\u001b[0m     \u001b[1;32melse\u001b[0m\u001b[1;33m:\u001b[0m\u001b[1;33m\u001b[0m\u001b[0m\n",
      "\u001b[1;31mIOError\u001b[0m: [Errno 2] No such file or directory: 'viewer.png'"
     ]
    }
   ],
   "source": [
    "import matplotlib.pyplot as plt\n",
    "import matplotlib.image as mpimg\n",
    "import numpy as np\n",
    "import fipy as fp\n",
    "from fipy import numerix as nmx\n",
    "\n",
    "r = 100\n",
    "numCellsDesired = 2500\n",
    "\n",
    "epsilon = 0.05\n",
    "cellSize = 16 * np.pi * r**2 / (nmx.sqrt(3.) * numCellsDesired)\n",
    "cellSize = nmx.sqrt(cellSize)\n",
    "\n",
    "substring1 = '''\n",
    "radius = {0};\n",
    "cellSize = {1};\n",
    "'''.format(r, round(cellSize, 6))\n",
    "\n",
    "mesh = fp.Gmsh2DIn3DSpace(substring1 + '''\n",
    "\n",
    "// create inner 1/8 shell\n",
    "Point(1) = {0, 0, 0, cellSize};\n",
    "Point(2) = {-radius, 0, 0, cellSize};\n",
    "Point(3) = {0, radius, 0, cellSize};\n",
    "Point(4) = {0, 0, radius, cellSize};\n",
    "Circle(1) = {2, 1, 3};\n",
    "Circle(2) = {4, 1, 2};\n",
    "Circle(3) = {4, 1, 3};\n",
    "Line Loop(1) = {1, -3, 2};\n",
    "Ruled Surface(1) = {1};\n",
    "\n",
    "// create remaining 7/8 inner shells\n",
    "t1[] = Rotate {{0,0,1},{0,0,0},Pi/2} {Duplicata{Surface{1};}};\n",
    "t2[] = Rotate {{0,0,1},{0,0,0},Pi} {Duplicata{Surface{1};}};\n",
    "t3[] = Rotate {{0,0,1},{0,0,0},Pi*3/2} {Duplicata{Surface{1};}};\n",
    "t4[] = Rotate {{0,1,0},{0,0,0},-Pi/2} {Duplicata{Surface{1};}};\n",
    "t5[] = Rotate {{0,0,1},{0,0,0},Pi/2} {Duplicata{Surface{t4[0]};}};\n",
    "t6[] = Rotate {{0,0,1},{0,0,0},Pi} {Duplicata{Surface{t4[0]};}};\n",
    "t7[] = Rotate {{0,0,1},{0,0,0},Pi*3/2} {Duplicata{Surface{t4[0]};}};\n",
    "\n",
    "// create entire inner and outer shell\n",
    "Surface Loop(100)={1, t1[0],t2[0],t3[0],t7[0],t4[0],t5[0],t6[0]};\n",
    "''', order=2.0).extrude(extrudeFunc=lambda r: 1.01*r)\n",
    "\n",
    "\n",
    "# load and cut off values at given duration\n",
    "times = np.load('/data/and9/surf-research/Anushka/1d/1d50.npz')['time']\n",
    "c_np = np.load('/data/and9/surf-research/Anushka/1d/1d50.npz')['c_var']\n",
    "f = np.load('/data/and9/surf-research/Anushka/1d/1d50.npz')['f']\n",
    "\n",
    "c_np_0 = c_np[0]\n",
    "\n",
    "c_var = fp.CellVariable(value = c_np_0, mesh = mesh)\n",
    "viewer = fp.Viewer(c_var, title = \"Time\")\n",
    "\n",
    "fig = plt.figure(figsize = (10, 5))\n",
    "fig.suptitle('Spherical Domain', fontsize = 15)\n",
    "\n",
    "axes1 = fig.add_subplot(121)\n",
    "\n",
    "viewer = fp.Viewer(c_var, colorbar=None, title = 'Concentration Distribution', fontsize = 10) \n",
    "axes1.axes.get_xaxis().set_visible(False)\n",
    "axes1.axes.get_yaxis().set_visible(False)\n",
    "\n",
    "axes2 = fig.add_subplot(122)\n",
    "axes2.set_xlabel('Time', fontsize = 10)\n",
    "axes2.set_ylabel('Free Energy', fontsize = 10)\n",
    "axes2.set_title('Total Free Energy Evolution', fontsize = 10)\n",
    "axes2.set_yscale('symlog')\n",
    "axes2.set_xscale('symlog')\n",
    "plt.subplots_adjust(left=.05, right=.95, top=.85, bottom=.1, wspace = .2)\n",
    "\n",
    "for index in range(1):\n",
    "    \n",
    "    current_time = times[index]\n",
    "#    print current_time\n",
    "    \n",
    "    f_current = f[:(index+1)]\n",
    "    times_current = times[:(index+1)]\n",
    "    c_np_current = c_np[index]\n",
    "    c_var[:] = c_np_current\n",
    "    c_var = fp.CellVariable(value = c_np_current, mesh = mesh)\n",
    "\n",
    "    viewer.plot('viewer.png')\n",
    "    img=mpimg.imread('viewer.png')\n",
    "    axes1.imshow(img[: , 160:385])\n",
    "    \n",
    "    axes2 = fig.add_subplot(122)\n",
    "    axes2.set_xlim(0, times[-1] + 10)\n",
    "    axes2.set_ylim(0, f[0] + 10)\n",
    "    print times_current\n",
    "    print f_current\n",
    "\n",
    "    axes2.plot(times_current, f_current)\n",
    "        \n",
    "    fig.show() \n",
    " \n",
    "    fig.savefig('/tmp/1d_images/image{0}.png'.format(str(index).rjust(5, '0')))\n",
    "#    viewer.savefig('/tmp/1d_images/image{0}.png'.format(str(index).rjust(5, '0')))\n",
    "    print \"saving \", 'image{0}'.format(str(index).rjust(5, '0'))"
   ]
  },
  {
   "cell_type": "code",
   "execution_count": 24,
   "metadata": {
    "collapsed": false
   },
   "outputs": [
    {
     "name": "stdout",
     "output_type": "stream",
     "text": [
      "(253, 537, 3)\n"
     ]
    }
   ],
   "source": [
    "print img.shape"
   ]
  },
  {
   "cell_type": "code",
   "execution_count": 29,
   "metadata": {
    "collapsed": false
   },
   "outputs": [
    {
     "ename": "UnboundLocalError",
     "evalue": "local variable 'aspect_scale_mode' referenced before assignment",
     "output_type": "error",
     "traceback": [
      "\u001b[1;31m---------------------------------------------------------------------------\u001b[0m",
      "\u001b[1;31mUnboundLocalError\u001b[0m                         Traceback (most recent call last)",
      "\u001b[1;32m/users/and9/miniconda2/lib/python2.7/site-packages/matplotlib/backends/backend_qt5.pyc\u001b[0m in \u001b[0;36mresizeEvent\u001b[1;34m(self, event)\u001b[0m\n\u001b[0;32m    336\u001b[0m         \u001b[0mself\u001b[0m\u001b[1;33m.\u001b[0m\u001b[0mfigure\u001b[0m\u001b[1;33m.\u001b[0m\u001b[0mset_size_inches\u001b[0m\u001b[1;33m(\u001b[0m\u001b[0mwinch\u001b[0m\u001b[1;33m,\u001b[0m \u001b[0mhinch\u001b[0m\u001b[1;33m)\u001b[0m\u001b[1;33m\u001b[0m\u001b[0m\n\u001b[0;32m    337\u001b[0m         \u001b[0mFigureCanvasBase\u001b[0m\u001b[1;33m.\u001b[0m\u001b[0mresize_event\u001b[0m\u001b[1;33m(\u001b[0m\u001b[0mself\u001b[0m\u001b[1;33m)\u001b[0m\u001b[1;33m\u001b[0m\u001b[0m\n\u001b[1;32m--> 338\u001b[1;33m         \u001b[0mself\u001b[0m\u001b[1;33m.\u001b[0m\u001b[0mdraw\u001b[0m\u001b[1;33m(\u001b[0m\u001b[1;33m)\u001b[0m\u001b[1;33m\u001b[0m\u001b[0m\n\u001b[0m\u001b[0;32m    339\u001b[0m         \u001b[0mself\u001b[0m\u001b[1;33m.\u001b[0m\u001b[0mupdate\u001b[0m\u001b[1;33m(\u001b[0m\u001b[1;33m)\u001b[0m\u001b[1;33m\u001b[0m\u001b[0m\n\u001b[0;32m    340\u001b[0m         \u001b[0mQtWidgets\u001b[0m\u001b[1;33m.\u001b[0m\u001b[0mQWidget\u001b[0m\u001b[1;33m.\u001b[0m\u001b[0mresizeEvent\u001b[0m\u001b[1;33m(\u001b[0m\u001b[0mself\u001b[0m\u001b[1;33m,\u001b[0m \u001b[0mevent\u001b[0m\u001b[1;33m)\u001b[0m\u001b[1;33m\u001b[0m\u001b[0m\n",
      "\u001b[1;32m/users/and9/miniconda2/lib/python2.7/site-packages/matplotlib/backends/backend_qt5agg.pyc\u001b[0m in \u001b[0;36mdraw\u001b[1;34m(self)\u001b[0m\n\u001b[0;32m    146\u001b[0m         \u001b[1;31m# causes problems with code that uses the result of the\u001b[0m\u001b[1;33m\u001b[0m\u001b[1;33m\u001b[0m\u001b[0m\n\u001b[0;32m    147\u001b[0m         \u001b[1;31m# draw() to update plot elements.\u001b[0m\u001b[1;33m\u001b[0m\u001b[1;33m\u001b[0m\u001b[0m\n\u001b[1;32m--> 148\u001b[1;33m         \u001b[0mFigureCanvasAgg\u001b[0m\u001b[1;33m.\u001b[0m\u001b[0mdraw\u001b[0m\u001b[1;33m(\u001b[0m\u001b[0mself\u001b[0m\u001b[1;33m)\u001b[0m\u001b[1;33m\u001b[0m\u001b[0m\n\u001b[0m\u001b[0;32m    149\u001b[0m         \u001b[0mself\u001b[0m\u001b[1;33m.\u001b[0m\u001b[0m_priv_update\u001b[0m\u001b[1;33m(\u001b[0m\u001b[1;33m)\u001b[0m\u001b[1;33m\u001b[0m\u001b[0m\n\u001b[0;32m    150\u001b[0m \u001b[1;33m\u001b[0m\u001b[0m\n",
      "\u001b[1;32m/users/and9/miniconda2/lib/python2.7/site-packages/matplotlib/backends/backend_agg.pyc\u001b[0m in \u001b[0;36mdraw\u001b[1;34m(self)\u001b[0m\n\u001b[0;32m    467\u001b[0m \u001b[1;33m\u001b[0m\u001b[0m\n\u001b[0;32m    468\u001b[0m         \u001b[1;32mtry\u001b[0m\u001b[1;33m:\u001b[0m\u001b[1;33m\u001b[0m\u001b[0m\n\u001b[1;32m--> 469\u001b[1;33m             \u001b[0mself\u001b[0m\u001b[1;33m.\u001b[0m\u001b[0mfigure\u001b[0m\u001b[1;33m.\u001b[0m\u001b[0mdraw\u001b[0m\u001b[1;33m(\u001b[0m\u001b[0mself\u001b[0m\u001b[1;33m.\u001b[0m\u001b[0mrenderer\u001b[0m\u001b[1;33m)\u001b[0m\u001b[1;33m\u001b[0m\u001b[0m\n\u001b[0m\u001b[0;32m    470\u001b[0m         \u001b[1;32mfinally\u001b[0m\u001b[1;33m:\u001b[0m\u001b[1;33m\u001b[0m\u001b[0m\n\u001b[0;32m    471\u001b[0m             \u001b[0mRendererAgg\u001b[0m\u001b[1;33m.\u001b[0m\u001b[0mlock\u001b[0m\u001b[1;33m.\u001b[0m\u001b[0mrelease\u001b[0m\u001b[1;33m(\u001b[0m\u001b[1;33m)\u001b[0m\u001b[1;33m\u001b[0m\u001b[0m\n",
      "\u001b[1;32m/users/and9/miniconda2/lib/python2.7/site-packages/matplotlib/artist.pyc\u001b[0m in \u001b[0;36mdraw_wrapper\u001b[1;34m(artist, renderer, *args, **kwargs)\u001b[0m\n\u001b[0;32m     57\u001b[0m     \u001b[1;32mdef\u001b[0m \u001b[0mdraw_wrapper\u001b[0m\u001b[1;33m(\u001b[0m\u001b[0martist\u001b[0m\u001b[1;33m,\u001b[0m \u001b[0mrenderer\u001b[0m\u001b[1;33m,\u001b[0m \u001b[1;33m*\u001b[0m\u001b[0margs\u001b[0m\u001b[1;33m,\u001b[0m \u001b[1;33m**\u001b[0m\u001b[0mkwargs\u001b[0m\u001b[1;33m)\u001b[0m\u001b[1;33m:\u001b[0m\u001b[1;33m\u001b[0m\u001b[0m\n\u001b[0;32m     58\u001b[0m         \u001b[0mbefore\u001b[0m\u001b[1;33m(\u001b[0m\u001b[0martist\u001b[0m\u001b[1;33m,\u001b[0m \u001b[0mrenderer\u001b[0m\u001b[1;33m)\u001b[0m\u001b[1;33m\u001b[0m\u001b[0m\n\u001b[1;32m---> 59\u001b[1;33m         \u001b[0mdraw\u001b[0m\u001b[1;33m(\u001b[0m\u001b[0martist\u001b[0m\u001b[1;33m,\u001b[0m \u001b[0mrenderer\u001b[0m\u001b[1;33m,\u001b[0m \u001b[1;33m*\u001b[0m\u001b[0margs\u001b[0m\u001b[1;33m,\u001b[0m \u001b[1;33m**\u001b[0m\u001b[0mkwargs\u001b[0m\u001b[1;33m)\u001b[0m\u001b[1;33m\u001b[0m\u001b[0m\n\u001b[0m\u001b[0;32m     60\u001b[0m         \u001b[0mafter\u001b[0m\u001b[1;33m(\u001b[0m\u001b[0martist\u001b[0m\u001b[1;33m,\u001b[0m \u001b[0mrenderer\u001b[0m\u001b[1;33m)\u001b[0m\u001b[1;33m\u001b[0m\u001b[0m\n\u001b[0;32m     61\u001b[0m \u001b[1;33m\u001b[0m\u001b[0m\n",
      "\u001b[1;32m/users/and9/miniconda2/lib/python2.7/site-packages/matplotlib/figure.pyc\u001b[0m in \u001b[0;36mdraw\u001b[1;34m(self, renderer)\u001b[0m\n\u001b[0;32m   1083\u001b[0m         \u001b[0mdsu\u001b[0m\u001b[1;33m.\u001b[0m\u001b[0msort\u001b[0m\u001b[1;33m(\u001b[0m\u001b[0mkey\u001b[0m\u001b[1;33m=\u001b[0m\u001b[0mitemgetter\u001b[0m\u001b[1;33m(\u001b[0m\u001b[1;36m0\u001b[0m\u001b[1;33m)\u001b[0m\u001b[1;33m)\u001b[0m\u001b[1;33m\u001b[0m\u001b[0m\n\u001b[0;32m   1084\u001b[0m         \u001b[1;32mfor\u001b[0m \u001b[0mzorder\u001b[0m\u001b[1;33m,\u001b[0m \u001b[0ma\u001b[0m\u001b[1;33m,\u001b[0m \u001b[0mfunc\u001b[0m\u001b[1;33m,\u001b[0m \u001b[0margs\u001b[0m \u001b[1;32min\u001b[0m \u001b[0mdsu\u001b[0m\u001b[1;33m:\u001b[0m\u001b[1;33m\u001b[0m\u001b[0m\n\u001b[1;32m-> 1085\u001b[1;33m             \u001b[0mfunc\u001b[0m\u001b[1;33m(\u001b[0m\u001b[1;33m*\u001b[0m\u001b[0margs\u001b[0m\u001b[1;33m)\u001b[0m\u001b[1;33m\u001b[0m\u001b[0m\n\u001b[0m\u001b[0;32m   1086\u001b[0m \u001b[1;33m\u001b[0m\u001b[0m\n\u001b[0;32m   1087\u001b[0m         \u001b[0mrenderer\u001b[0m\u001b[1;33m.\u001b[0m\u001b[0mclose_group\u001b[0m\u001b[1;33m(\u001b[0m\u001b[1;34m'figure'\u001b[0m\u001b[1;33m)\u001b[0m\u001b[1;33m\u001b[0m\u001b[0m\n",
      "\u001b[1;32m/users/and9/miniconda2/lib/python2.7/site-packages/matplotlib/artist.pyc\u001b[0m in \u001b[0;36mdraw_wrapper\u001b[1;34m(artist, renderer, *args, **kwargs)\u001b[0m\n\u001b[0;32m     57\u001b[0m     \u001b[1;32mdef\u001b[0m \u001b[0mdraw_wrapper\u001b[0m\u001b[1;33m(\u001b[0m\u001b[0martist\u001b[0m\u001b[1;33m,\u001b[0m \u001b[0mrenderer\u001b[0m\u001b[1;33m,\u001b[0m \u001b[1;33m*\u001b[0m\u001b[0margs\u001b[0m\u001b[1;33m,\u001b[0m \u001b[1;33m**\u001b[0m\u001b[0mkwargs\u001b[0m\u001b[1;33m)\u001b[0m\u001b[1;33m:\u001b[0m\u001b[1;33m\u001b[0m\u001b[0m\n\u001b[0;32m     58\u001b[0m         \u001b[0mbefore\u001b[0m\u001b[1;33m(\u001b[0m\u001b[0martist\u001b[0m\u001b[1;33m,\u001b[0m \u001b[0mrenderer\u001b[0m\u001b[1;33m)\u001b[0m\u001b[1;33m\u001b[0m\u001b[0m\n\u001b[1;32m---> 59\u001b[1;33m         \u001b[0mdraw\u001b[0m\u001b[1;33m(\u001b[0m\u001b[0martist\u001b[0m\u001b[1;33m,\u001b[0m \u001b[0mrenderer\u001b[0m\u001b[1;33m,\u001b[0m \u001b[1;33m*\u001b[0m\u001b[0margs\u001b[0m\u001b[1;33m,\u001b[0m \u001b[1;33m**\u001b[0m\u001b[0mkwargs\u001b[0m\u001b[1;33m)\u001b[0m\u001b[1;33m\u001b[0m\u001b[0m\n\u001b[0m\u001b[0;32m     60\u001b[0m         \u001b[0mafter\u001b[0m\u001b[1;33m(\u001b[0m\u001b[0martist\u001b[0m\u001b[1;33m,\u001b[0m \u001b[0mrenderer\u001b[0m\u001b[1;33m)\u001b[0m\u001b[1;33m\u001b[0m\u001b[0m\n\u001b[0;32m     61\u001b[0m \u001b[1;33m\u001b[0m\u001b[0m\n",
      "\u001b[1;32m/users/and9/miniconda2/lib/python2.7/site-packages/matplotlib/axes/_base.pyc\u001b[0m in \u001b[0;36mdraw\u001b[1;34m(self, renderer, inframe)\u001b[0m\n\u001b[0;32m   2004\u001b[0m             \u001b[0mself\u001b[0m\u001b[1;33m.\u001b[0m\u001b[0mapply_aspect\u001b[0m\u001b[1;33m(\u001b[0m\u001b[0mpos\u001b[0m\u001b[1;33m)\u001b[0m\u001b[1;33m\u001b[0m\u001b[0m\n\u001b[0;32m   2005\u001b[0m         \u001b[1;32melse\u001b[0m\u001b[1;33m:\u001b[0m\u001b[1;33m\u001b[0m\u001b[0m\n\u001b[1;32m-> 2006\u001b[1;33m             \u001b[0mself\u001b[0m\u001b[1;33m.\u001b[0m\u001b[0mapply_aspect\u001b[0m\u001b[1;33m(\u001b[0m\u001b[1;33m)\u001b[0m\u001b[1;33m\u001b[0m\u001b[0m\n\u001b[0m\u001b[0;32m   2007\u001b[0m \u001b[1;33m\u001b[0m\u001b[0m\n\u001b[0;32m   2008\u001b[0m         \u001b[0martists\u001b[0m \u001b[1;33m=\u001b[0m \u001b[1;33m[\u001b[0m\u001b[1;33m]\u001b[0m\u001b[1;33m\u001b[0m\u001b[0m\n",
      "\u001b[1;32m/users/and9/miniconda2/lib/python2.7/site-packages/matplotlib/axes/_base.pyc\u001b[0m in \u001b[0;36mapply_aspect\u001b[1;34m(self, position)\u001b[0m\n\u001b[0;32m   1191\u001b[0m         \u001b[0mfig_aspect\u001b[0m \u001b[1;33m=\u001b[0m \u001b[0mfigH\u001b[0m \u001b[1;33m/\u001b[0m \u001b[0mfigW\u001b[0m\u001b[1;33m\u001b[0m\u001b[0m\n\u001b[0;32m   1192\u001b[0m         \u001b[1;32mif\u001b[0m \u001b[0mself\u001b[0m\u001b[1;33m.\u001b[0m\u001b[0m_adjustable\u001b[0m \u001b[1;32min\u001b[0m \u001b[1;33m[\u001b[0m\u001b[1;34m'box'\u001b[0m\u001b[1;33m,\u001b[0m \u001b[1;34m'box-forced'\u001b[0m\u001b[1;33m]\u001b[0m\u001b[1;33m:\u001b[0m\u001b[1;33m\u001b[0m\u001b[0m\n\u001b[1;32m-> 1193\u001b[1;33m             \u001b[1;32mif\u001b[0m \u001b[0maspect_scale_mode\u001b[0m \u001b[1;33m==\u001b[0m \u001b[1;34m\"log\"\u001b[0m\u001b[1;33m:\u001b[0m\u001b[1;33m\u001b[0m\u001b[0m\n\u001b[0m\u001b[0;32m   1194\u001b[0m                 \u001b[0mbox_aspect\u001b[0m \u001b[1;33m=\u001b[0m \u001b[0mA\u001b[0m \u001b[1;33m*\u001b[0m \u001b[0mself\u001b[0m\u001b[1;33m.\u001b[0m\u001b[0mget_data_ratio_log\u001b[0m\u001b[1;33m(\u001b[0m\u001b[1;33m)\u001b[0m\u001b[1;33m\u001b[0m\u001b[0m\n\u001b[0;32m   1195\u001b[0m             \u001b[1;32melse\u001b[0m\u001b[1;33m:\u001b[0m\u001b[1;33m\u001b[0m\u001b[0m\n",
      "\u001b[1;31mUnboundLocalError\u001b[0m: local variable 'aspect_scale_mode' referenced before assignment"
     ]
    }
   ],
   "source": [
    "img=mpimg.imread('viewer.png')\n",
    "plt.imshow(img[: , 250:537])\n",
    "plt.show()"
   ]
  },
  {
   "cell_type": "code",
   "execution_count": 7,
   "metadata": {
    "collapsed": false
   },
   "outputs": [
    {
     "name": "stdout",
     "output_type": "stream",
     "text": [
      "/data/and9/surf-research/Anushka/1a/1a50.npz\n"
     ]
    }
   ],
   "source": [
    "import glob\n",
    "import os\n",
    "newest = min(glob.iglob('/data/and9/surf-research/Anushka/1a/1a50' + '*.npz'), key=os.path.getctime)\n",
    "print newest"
   ]
  },
  {
   "cell_type": "code",
   "execution_count": 5,
   "metadata": {
    "collapsed": false
   },
   "outputs": [
    {
     "data": {
      "text/plain": [
       "'/data/and9/surf-research/Anushka/1a/1a50*.npz'"
      ]
     },
     "execution_count": 5,
     "metadata": {},
     "output_type": "execute_result"
    }
   ],
   "source": [
    "'/data/and9/surf-research/Anushka/1a/1a50' + '*.npz'"
   ]
  },
  {
   "cell_type": "code",
   "execution_count": null,
   "metadata": {
    "collapsed": true
   },
   "outputs": [],
   "source": []
  }
 ],
 "metadata": {
  "kernelspec": {
   "display_name": "Python 2",
   "language": "python",
   "name": "python2"
  },
  "language_info": {
   "codemirror_mode": {
    "name": "ipython",
    "version": 2
   },
   "file_extension": ".py",
   "mimetype": "text/x-python",
   "name": "python",
   "nbconvert_exporter": "python",
   "pygments_lexer": "ipython2",
   "version": "2.7.11"
  }
 },
 "nbformat": 4,
 "nbformat_minor": 0
}
